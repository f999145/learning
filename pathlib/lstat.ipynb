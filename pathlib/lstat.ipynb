{
 "cells": [
  {
   "cell_type": "code",
   "execution_count": null,
   "metadata": {},
   "outputs": [],
   "source": [
    "from pathlib import Path\n",
    "import datetime\n",
    "\n",
    "file_path = Path('/путь/к/вашему/файлу.txt')\n",
    "\n",
    "# Получение информации о файле\n",
    "file_info = file_path.stat()\n",
    "\n",
    "# Дата последнего изменения\n",
    "last_modified_time = file_info.st_mtime\n",
    "last_modified_datetime = datetime.datetime.fromtimestamp(last_modified_time)\n",
    "print(f'Дата последнего изменения: {last_modified_datetime}')\n",
    "\n",
    "# Дата создания (ctime)\n",
    "creation_time = file_info.st_ctime\n",
    "creation_datetime = datetime.datetime.fromtimestamp(creation_time)\n",
    "print(f'Дата создания: {creation_datetime}')\n",
    "\n",
    "# Дата последнего доступа (atime)\n",
    "last_access_time = file_info.st_atime\n",
    "last_access_datetime = datetime.datetime.fromtimestamp(last_access_time)\n",
    "print(f'Дата последнего доступа: {last_access_datetime}')\n"
   ]
  }
 ],
 "metadata": {
  "language_info": {
   "name": "python"
  }
 },
 "nbformat": 4,
 "nbformat_minor": 2
}
