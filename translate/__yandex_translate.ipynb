{
 "cells": [
  {
   "cell_type": "code",
   "execution_count": 6,
   "metadata": {},
   "outputs": [],
   "source": [
    "from yandexfreetranslate import YandexFreeTranslate\n",
    "from multiprocessing.dummy import Pool as ThreadPool\n",
    "from tqdm import tqdm\n",
    "\n",
    "def _worker(que: tuple) -> str:\n",
    "    queue, pbar = que\n",
    "    if not queue:\n",
    "        pbar.update(1)\n",
    "        return ''\n",
    "    yt = YandexFreeTranslate(api = \"ios\")\n",
    "    text = yt.translate(\"en\", \"ru\", queue)\n",
    "    pbar.update(1)\n",
    "    return text\n",
    "\n",
    "def run_translate(lst: list[str])-> list[str]:\n",
    "    with tqdm(total=len(lst) ) as pbar:\n",
    "        l_b = list(zip(lst, ( pbar for _ in range(len(lst)))))\n",
    "        with ThreadPool(30) as pool:\n",
    "            workreturn = pool.map(_worker, l_b)\n",
    "    return workreturn"
   ]
  },
  {
   "cell_type": "code",
   "execution_count": 17,
   "metadata": {},
   "outputs": [
    {
     "name": "stderr",
     "output_type": "stream",
     "text": [
      "100%|██████████| 1/1 [00:00<00:00,  4.68it/s]\n"
     ]
    }
   ],
   "source": [
    "text = \"\"\"\n",
    "\n",
    "\n",
    "\n",
    "Tondemo Skill de Isekai Hourou Meshi\n",
    "\n",
    "\n",
    "\n",
    "\"\"\".strip().split('\\n')\n",
    "\n",
    "\n",
    "\n",
    "\n",
    "text_rus = run_translate(text)\n",
    "text_rus = '\\n'.join(text_rus)"
   ]
  },
  {
   "cell_type": "code",
   "execution_count": 18,
   "metadata": {},
   "outputs": [
    {
     "name": "stdout",
     "output_type": "stream",
     "text": [
      "Тондемо Скилл де Исекай Хоуроу Меши\n"
     ]
    }
   ],
   "source": [
    "print(text_rus)"
   ]
  }
 ],
 "metadata": {
  "kernelspec": {
   "display_name": "Python 3",
   "language": "python",
   "name": "python3"
  },
  "language_info": {
   "codemirror_mode": {
    "name": "ipython",
    "version": 3
   },
   "file_extension": ".py",
   "mimetype": "text/x-python",
   "name": "python",
   "nbconvert_exporter": "python",
   "pygments_lexer": "ipython3",
   "version": "3.11.0"
  },
  "orig_nbformat": 4
 },
 "nbformat": 4,
 "nbformat_minor": 2
}
