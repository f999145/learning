{
 "cells": [
  {
   "cell_type": "code",
   "execution_count": 14,
   "metadata": {},
   "outputs": [],
   "source": [
    "from yandexfreetranslate import YandexFreeTranslate\n",
    "import multiprocessing as mp\n",
    "import pandas as pd\n",
    "from os.path import join as os_path_join\n",
    "from os import mkdir as os_mkdir"
   ]
  },
  {
   "cell_type": "code",
   "execution_count": 11,
   "metadata": {},
   "outputs": [],
   "source": [
    "# def _translate(queue: list[str]):\n",
    "#     total = len(queue)\n",
    "    \n",
    "#     tmp = []\n",
    "#     row: str\n",
    "#     yt = YandexFreeTranslate()\n",
    "#     for index, row in enumerate(queue):\n",
    "#         if not row:\n",
    "#             tmp.append('')\n",
    "#         else:\n",
    "#             tmp.append(yt.translate(\"en\", \"ru\", row))\n",
    "#         print(f'{(index+1):03d}/{total}', end='\\r')\n",
    "#     return tmp"
   ]
  },
  {
   "cell_type": "code",
   "execution_count": 15,
   "metadata": {},
   "outputs": [
    {
     "name": "stdout",
     "output_type": "stream",
     "text": [
      "<class 'pandas.core.frame.DataFrame'>\n",
      "RangeIndex: 205 entries, 0 to 204\n",
      "Data columns (total 5 columns):\n",
      " #   Column       Non-Null Count  Dtype  \n",
      "---  ------       --------------  -----  \n",
      " 0   name         205 non-null    object \n",
      " 1   chapters     205 non-null    int64  \n",
      " 2   rating       205 non-null    float64\n",
      " 3   href         205 non-null    object \n",
      " 4   description  205 non-null    object \n",
      "dtypes: float64(1), int64(1), object(3)\n",
      "memory usage: 8.1+ KB\n"
     ]
    }
   ],
   "source": [
    "df = pd.read_csv(os_path_join('..','data','webnovel.zip'))\n",
    "df.info()"
   ]
  },
  {
   "cell_type": "code",
   "execution_count": 13,
   "metadata": {},
   "outputs": [],
   "source": [
    "# res = _translate((list(df['name'].values)))"
   ]
  },
  {
   "cell_type": "code",
   "execution_count": null,
   "metadata": {},
   "outputs": [],
   "source": [
    "%run translate_name.py"
   ]
  },
  {
   "cell_type": "code",
   "execution_count": 7,
   "metadata": {},
   "outputs": [
    {
     "data": {
      "text/html": [
       "<div>\n",
       "<style scoped>\n",
       "    .dataframe tbody tr th:only-of-type {\n",
       "        vertical-align: middle;\n",
       "    }\n",
       "\n",
       "    .dataframe tbody tr th {\n",
       "        vertical-align: top;\n",
       "    }\n",
       "\n",
       "    .dataframe thead th {\n",
       "        text-align: right;\n",
       "    }\n",
       "</style>\n",
       "<table border=\"1\" class=\"dataframe\">\n",
       "  <thead>\n",
       "    <tr style=\"text-align: right;\">\n",
       "      <th></th>\n",
       "      <th>name</th>\n",
       "      <th>name_rus</th>\n",
       "      <th>chapters</th>\n",
       "      <th>rating</th>\n",
       "      <th>href</th>\n",
       "      <th>description</th>\n",
       "    </tr>\n",
       "  </thead>\n",
       "  <tbody>\n",
       "    <tr>\n",
       "      <th>0</th>\n",
       "      <td>It's Not Easy to Be a Man After Travelling to ...</td>\n",
       "      <td>Нелегко быть Мужчиной после путешествия в будущее</td>\n",
       "      <td>1501</td>\n",
       "      <td>4.67</td>\n",
       "      <td>https://www.webnovel.com/book/it's-not-easy-to...</td>\n",
       "      <td>After dying from a strange terminal illness, L...</td>\n",
       "    </tr>\n",
       "    <tr>\n",
       "      <th>1</th>\n",
       "      <td>My Dad Is the Galaxy's Prince Charming</td>\n",
       "      <td>Мой папа - Прекрасный принц Галактики</td>\n",
       "      <td>198</td>\n",
       "      <td>4.57</td>\n",
       "      <td>https://www.webnovel.com/book/my-dad-is-the-ga...</td>\n",
       "      <td>What would you do if your planet ceased to exi...</td>\n",
       "    </tr>\n",
       "    <tr>\n",
       "      <th>2</th>\n",
       "      <td>Rebirth Of The Apocalypse Queen: On Your Knees...</td>\n",
       "      <td>Возрождение Королевы Апокалипсиса: На Колени, ...</td>\n",
       "      <td>830</td>\n",
       "      <td>4.66</td>\n",
       "      <td>https://www.webnovel.com/book/rebirth-of-the-a...</td>\n",
       "      <td>Qin Yi was reborn half a month's time before t...</td>\n",
       "    </tr>\n",
       "    <tr>\n",
       "      <th>3</th>\n",
       "      <td>The Spider Queen</td>\n",
       "      <td>Паучья королева</td>\n",
       "      <td>712</td>\n",
       "      <td>4.78</td>\n",
       "      <td>https://www.webnovel.com/book/the-spider-queen...</td>\n",
       "      <td>In the Year 30XX......\\n\\nHumans have long bee...</td>\n",
       "    </tr>\n",
       "    <tr>\n",
       "      <th>4</th>\n",
       "      <td>I, The Female Protagonist With Superpower, Am ...</td>\n",
       "      <td>Я, Главная героиня Женского Пола, Обладающая С...</td>\n",
       "      <td>3225</td>\n",
       "      <td>4.61</td>\n",
       "      <td>https://www.webnovel.com/book/i-the-female-pro...</td>\n",
       "      <td>She was born into an affluent family, but she ...</td>\n",
       "    </tr>\n",
       "  </tbody>\n",
       "</table>\n",
       "</div>"
      ],
      "text/plain": [
       "                                                name  \\\n",
       "0  It's Not Easy to Be a Man After Travelling to ...   \n",
       "1             My Dad Is the Galaxy's Prince Charming   \n",
       "2  Rebirth Of The Apocalypse Queen: On Your Knees...   \n",
       "3                                   The Spider Queen   \n",
       "4  I, The Female Protagonist With Superpower, Am ...   \n",
       "\n",
       "                                            name_rus  chapters  rating  \\\n",
       "0  Нелегко быть Мужчиной после путешествия в будущее      1501    4.67   \n",
       "1              Мой папа - Прекрасный принц Галактики       198    4.57   \n",
       "2  Возрождение Королевы Апокалипсиса: На Колени, ...       830    4.66   \n",
       "3                                    Паучья королева       712    4.78   \n",
       "4  Я, Главная героиня Женского Пола, Обладающая С...      3225    4.61   \n",
       "\n",
       "                                                href  \\\n",
       "0  https://www.webnovel.com/book/it's-not-easy-to...   \n",
       "1  https://www.webnovel.com/book/my-dad-is-the-ga...   \n",
       "2  https://www.webnovel.com/book/rebirth-of-the-a...   \n",
       "3  https://www.webnovel.com/book/the-spider-queen...   \n",
       "4  https://www.webnovel.com/book/i-the-female-pro...   \n",
       "\n",
       "                                         description  \n",
       "0  After dying from a strange terminal illness, L...  \n",
       "1  What would you do if your planet ceased to exi...  \n",
       "2  Qin Yi was reborn half a month's time before t...  \n",
       "3  In the Year 30XX......\\n\\nHumans have long bee...  \n",
       "4  She was born into an affluent family, but she ...  "
      ]
     },
     "execution_count": 7,
     "metadata": {},
     "output_type": "execute_result"
    }
   ],
   "source": [
    "tst = pd.DataFrame({\n",
    "    'test':res\n",
    "})\n",
    "\n",
    "test = df.copy()\n",
    "test.insert(1, 'name_rus', res)\n",
    "test.head()"
   ]
  },
  {
   "cell_type": "code",
   "execution_count": 8,
   "metadata": {},
   "outputs": [],
   "source": [
    "name = 'webnovel_rus_name'\n",
    "try:\n",
    "    os_mkdir(os_path_join('..','data'))\n",
    "except FileExistsError as ex:\n",
    "    pass\n",
    "test.to_csv(\n",
    "    os_path_join('..','data', f'{name}.zip'), \n",
    "    index=False,\n",
    "    compression={'method':'zip', 'archive_name':f'{name}.csv'}\n",
    "    )"
   ]
  }
 ],
 "metadata": {
  "kernelspec": {
   "display_name": "Python 3",
   "language": "python",
   "name": "python3"
  },
  "language_info": {
   "codemirror_mode": {
    "name": "ipython",
    "version": 3
   },
   "file_extension": ".py",
   "mimetype": "text/x-python",
   "name": "python",
   "nbconvert_exporter": "python",
   "pygments_lexer": "ipython3",
   "version": "3.11.0"
  },
  "orig_nbformat": 4,
  "vscode": {
   "interpreter": {
    "hash": "07fa51723cfdfdcfd96f4d831e9a58393b5ea734b6a2ccc6da0d746f7dd84b96"
   }
  }
 },
 "nbformat": 4,
 "nbformat_minor": 2
}
