{
 "cells": [
  {
   "cell_type": "code",
   "execution_count": 2,
   "metadata": {},
   "outputs": [],
   "source": [
    "import undetected_chromedriver as uc\n",
    "from time import sleep as time_sleep\n",
    "from bs4 import BeautifulSoup as BS\n",
    "import pandas as pd\n",
    "from os.path import join as os_path_join\n",
    "from os import mkdir as os_mkdir"
   ]
  },
  {
   "cell_type": "code",
   "execution_count": 122,
   "metadata": {},
   "outputs": [
    {
     "data": {
      "text/plain": [
       "'https://www.webnovel.com'"
      ]
     },
     "execution_count": 122,
     "metadata": {},
     "output_type": "execute_result"
    }
   ],
   "source": [
    "url = '''\n",
    "\n",
    "https://www.webnovel.com/stories/novel?gender=1\n",
    "\n",
    "'''.strip()\n",
    "host = '/'.join(url.split('/', maxsplit=3)[:3])\n",
    "host"
   ]
  },
  {
   "cell_type": "code",
   "execution_count": 123,
   "metadata": {},
   "outputs": [],
   "source": [
    "driver = uc.Chrome()\n",
    "driver.get(url)"
   ]
  },
  {
   "cell_type": "code",
   "execution_count": 124,
   "metadata": {},
   "outputs": [],
   "source": [
    "for _ in range(50):\n",
    "    (driver.execute_script(\"window.scrollBy(0,1750)\"))\n",
    "    time_sleep(1)"
   ]
  },
  {
   "cell_type": "code",
   "execution_count": 125,
   "metadata": {},
   "outputs": [],
   "source": [
    "page = driver.page_source\n",
    "soup = BS(page, 'html.parser')"
   ]
  },
  {
   "cell_type": "code",
   "execution_count": 126,
   "metadata": {},
   "outputs": [],
   "source": [
    "table_0 = soup.find(attrs={'class':'f1'}).find(attrs={'class':'j_category_wrapper'}).find(attrs={'class':'clearfix'})\n",
    "table = table_0.find_all(attrs={'class':r'fl w50% bsbb pl20 pr20 pt8 pb8'}) "
   ]
  },
  {
   "cell_type": "code",
   "execution_count": 127,
   "metadata": {},
   "outputs": [
    {
     "data": {
      "text/html": [
       "<div>\n",
       "<style scoped>\n",
       "    .dataframe tbody tr th:only-of-type {\n",
       "        vertical-align: middle;\n",
       "    }\n",
       "\n",
       "    .dataframe tbody tr th {\n",
       "        vertical-align: top;\n",
       "    }\n",
       "\n",
       "    .dataframe thead th {\n",
       "        text-align: right;\n",
       "    }\n",
       "</style>\n",
       "<table border=\"1\" class=\"dataframe\">\n",
       "  <thead>\n",
       "    <tr style=\"text-align: right;\">\n",
       "      <th></th>\n",
       "      <th>name</th>\n",
       "      <th>chapters</th>\n",
       "      <th>rating</th>\n",
       "      <th>href</th>\n",
       "      <th>description</th>\n",
       "    </tr>\n",
       "  </thead>\n",
       "  <tbody>\n",
       "    <tr>\n",
       "      <th>0</th>\n",
       "      <td>Supreme Magus</td>\n",
       "      <td>2379</td>\n",
       "      <td>4.82</td>\n",
       "      <td>https://www.webnovel.com/book/supreme-magus_12...</td>\n",
       "      <td>Derek McCoy was a man who spent his entire lif...</td>\n",
       "    </tr>\n",
       "    <tr>\n",
       "      <th>1</th>\n",
       "      <td>My Vampire System</td>\n",
       "      <td>2137</td>\n",
       "      <td>4.60</td>\n",
       "      <td>https://www.webnovel.com/book/my-vampire-syste...</td>\n",
       "      <td>The human Race is at war with the Vicious Dalk...</td>\n",
       "    </tr>\n",
       "    <tr>\n",
       "      <th>2</th>\n",
       "      <td>Blood Warlock: Succubus Partner in the Apocalypse</td>\n",
       "      <td>1236</td>\n",
       "      <td>4.71</td>\n",
       "      <td>https://www.webnovel.com/book/blood-warlock-su...</td>\n",
       "      <td>The legendary mana finally reached planet Eart...</td>\n",
       "    </tr>\n",
       "    <tr>\n",
       "      <th>3</th>\n",
       "      <td>Shadow Slave</td>\n",
       "      <td>756</td>\n",
       "      <td>4.80</td>\n",
       "      <td>https://www.webnovel.com/book/shadow-slave_221...</td>\n",
       "      <td>Growing up in poverty, Sunny never expected an...</td>\n",
       "    </tr>\n",
       "    <tr>\n",
       "      <th>4</th>\n",
       "      <td>The Mech Touch</td>\n",
       "      <td>4613</td>\n",
       "      <td>4.65</td>\n",
       "      <td>https://www.webnovel.com/book/the-mech-touch_1...</td>\n",
       "      <td>After obtaining the Mech Designer System, Ves ...</td>\n",
       "    </tr>\n",
       "  </tbody>\n",
       "</table>\n",
       "</div>"
      ],
      "text/plain": [
       "                                                name  chapters  rating  \\\n",
       "0                                      Supreme Magus      2379    4.82   \n",
       "1                                  My Vampire System      2137    4.60   \n",
       "2  Blood Warlock: Succubus Partner in the Apocalypse      1236    4.71   \n",
       "3                                       Shadow Slave       756    4.80   \n",
       "4                                     The Mech Touch      4613    4.65   \n",
       "\n",
       "                                                href  \\\n",
       "0  https://www.webnovel.com/book/supreme-magus_12...   \n",
       "1  https://www.webnovel.com/book/my-vampire-syste...   \n",
       "2  https://www.webnovel.com/book/blood-warlock-su...   \n",
       "3  https://www.webnovel.com/book/shadow-slave_221...   \n",
       "4  https://www.webnovel.com/book/the-mech-touch_1...   \n",
       "\n",
       "                                         description  \n",
       "0  Derek McCoy was a man who spent his entire lif...  \n",
       "1  The human Race is at war with the Vicious Dalk...  \n",
       "2  The legendary mana finally reached planet Eart...  \n",
       "3  Growing up in poverty, Sunny never expected an...  \n",
       "4  After obtaining the Mech Designer System, Ves ...  "
      ]
     },
     "execution_count": 127,
     "metadata": {},
     "output_type": "execute_result"
    }
   ],
   "source": [
    "df = pd.DataFrame()\n",
    "\n",
    "elem: BS\n",
    "for index, elem in enumerate(table[:]):\n",
    "    \n",
    "    name_and_href = elem.find('div').find('h3', attrs={'class':r'fw700 lh20 fs16 ls0.15 ell mb4'}).find('a')\n",
    "    name = name_and_href.get('title')\n",
    "    href = host + name_and_href.get('href')\n",
    "    try:\n",
    "        description = elem.find('div').find('p', attrs={'class':r'fw400 lh20 fs14 ls0.2 c_l ells _2 mt4'}).text\n",
    "    except AttributeError as ex:\n",
    "        continue\n",
    "        \n",
    "    information = elem.find('div').find('p', attrs={'class':r'df aic'}).find_all('strong', attrs={'class':r'c_m fs0 ff_number vam mr16'})\n",
    "    cnt = False\n",
    "    inf: BS\n",
    "    for inf in information:\n",
    "        tmp = inf.find('span').text\n",
    "        if 'Chapters' in tmp:\n",
    "            capters = int(tmp.replace(' Chapters', ''))\n",
    "            if not cnt:\n",
    "                rating = float(0)    \n",
    "            break\n",
    "        else:\n",
    "            rating = float(tmp)\n",
    "            cnt = True\n",
    "    \n",
    "    df_temp = pd.DataFrame({\n",
    "        'name':[name],\n",
    "        'chapters':[capters],\n",
    "        'rating':[rating],\n",
    "        'href':[href],\n",
    "        'description':[description]\n",
    "    })\n",
    "    \n",
    "    df = pd.concat([df,df_temp], ignore_index=True, sort=False)\n",
    "df.head()"
   ]
  },
  {
   "cell_type": "code",
   "execution_count": 134,
   "metadata": {},
   "outputs": [
    {
     "name": "stdout",
     "output_type": "stream",
     "text": [
      "<class 'pandas.core.frame.DataFrame'>\n",
      "RangeIndex: 205 entries, 0 to 204\n",
      "Data columns (total 5 columns):\n",
      " #   Column       Non-Null Count  Dtype  \n",
      "---  ------       --------------  -----  \n",
      " 0   name         205 non-null    object \n",
      " 1   chapters     205 non-null    int64  \n",
      " 2   rating       205 non-null    float64\n",
      " 3   href         205 non-null    object \n",
      " 4   description  205 non-null    object \n",
      "dtypes: float64(1), int64(1), object(3)\n",
      "memory usage: 8.1+ KB\n"
     ]
    }
   ],
   "source": [
    "mask1 = df['rating'] > 4.5\n",
    "mask2 = df['chapters'] > 400\n",
    "df = df[mask1 & mask2].sort_values(by='rating', ascending=False, ignore_index=True)\n",
    "df.info()"
   ]
  },
  {
   "attachments": {},
   "cell_type": "markdown",
   "metadata": {},
   "source": [
    "---\n",
    "сохранение"
   ]
  },
  {
   "cell_type": "code",
   "execution_count": 135,
   "metadata": {},
   "outputs": [],
   "source": [
    "try:\n",
    "    os_mkdir(os_path_join('..','data'))\n",
    "except FileExistsError as ex:\n",
    "    pass\n",
    "df.to_csv(\n",
    "    os_path_join('..','data', 'webnovel.zip'), \n",
    "    index=False,\n",
    "    compression={'method':'zip', 'archive_name':'webnovel.csv'}\n",
    "    )"
   ]
  },
  {
   "cell_type": "code",
   "execution_count": 139,
   "metadata": {},
   "outputs": [
    {
     "data": {
      "text/plain": [
       "'https://www.webnovel.com/book/my-three-wives-are-beautiful-vampires._20553633305398405'"
      ]
     },
     "execution_count": 139,
     "metadata": {},
     "output_type": "execute_result"
    }
   ],
   "source": [
    "df.iloc[3]['href']"
   ]
  },
  {
   "attachments": {},
   "cell_type": "markdown",
   "metadata": {},
   "source": [
    "---"
   ]
  },
  {
   "cell_type": "code",
   "execution_count": 7,
   "metadata": {},
   "outputs": [
    {
     "name": "stdout",
     "output_type": "stream",
     "text": [
      "<class 'pandas.core.frame.DataFrame'>\n",
      "RangeIndex: 205 entries, 0 to 204\n",
      "Data columns (total 7 columns):\n",
      " #   Column           Non-Null Count  Dtype  \n",
      "---  ------           --------------  -----  \n",
      " 0   name             205 non-null    object \n",
      " 1   name_rus         205 non-null    object \n",
      " 2   chapters         205 non-null    int64  \n",
      " 3   rating           205 non-null    float64\n",
      " 4   href             205 non-null    object \n",
      " 5   description      205 non-null    object \n",
      " 6   description_rus  205 non-null    object \n",
      "dtypes: float64(1), int64(1), object(5)\n",
      "memory usage: 11.3+ KB\n"
     ]
    }
   ],
   "source": [
    "name = 'webnovel_rus_name'\n",
    "rus_df = pd.read_csv(os_path_join('..','data', f'{name}.zip'))\n",
    "rus_df.info()"
   ]
  },
  {
   "cell_type": "code",
   "execution_count": 13,
   "metadata": {},
   "outputs": [
    {
     "data": {
      "text/plain": [
       "60    Эпопея Ледяного Дракона: Возрождение в качеств...\n",
       "61                         Цветы расцветают на поле боя\n",
       "62                                          Мир древних\n",
       "63                              Наружная веб-трансляция\n",
       "64                               Маг Изначального Хаоса\n",
       "65                             Восстание легиона нежити\n",
       "66    Кровавый чернокнижник: партнер суккуба в Апока...\n",
       "67                                Игры на превосходство\n",
       "68                                  Система родословной\n",
       "69                        Тлеющие угли До бесконечности\n",
       "70                                  Возглавляемый змеей\n",
       "71                                           Герой тьмы\n",
       "72                                       Монарх времени\n",
       "73                                   Моя система Hermes\n",
       "74    Эпопея Дракона-вампира: Возрождение в качестве...\n",
       "75                                   Добродетель демона\n",
       "76                                Возвышение Носильщика\n",
       "77                          Рождение демонического меча\n",
       "78                            ВЕЛИЧАЙШИЙ ИЗ ВСЕХ ВРЕМЕН\n",
       "79               Космический профессиональный гладиатор\n",
       "Name: name_rus, dtype: object"
      ]
     },
     "execution_count": 13,
     "metadata": {},
     "output_type": "execute_result"
    }
   ],
   "source": [
    "shift = 3\n",
    "\n",
    "delta = 20\n",
    "\n",
    "rus_df['name_rus'].iloc[(shift * delta):((shift * delta) + delta)]"
   ]
  },
  {
   "cell_type": "code",
   "execution_count": 14,
   "metadata": {},
   "outputs": [
    {
     "name": "stdout",
     "output_type": "stream",
     "text": [
      "Supremacy Games\n",
      "Игры на превосходство 4.71 1206\n",
      "Феликсу Максвеллу было суждено стать неудачником, он родился в одной из самых слабых рас и в наименее благоприятных ситуациях, он был вынужден сталкиваться с невзгодами лицом к лицу, путешествуя по огромной вселенной, где опасности подстерегали на каждом углу, однажды, путешествуя в надежде на богатство, он наткнулся на руины, где высшее существо было заключено в тюрьму, по несчастью, существо положило на него глаз и попыталось завладеть его телом, навязав себя ему.\n",
      "\n",
      "Но судьба не отказалась от него!\n",
      "\n",
      "Он проснулся в своей младшей \n",
      "тело, 20 лет в прошлом, с падшим, запертым в его душе.\n",
      "\n",
      "В своей прошлой жизни он был неудачником, бросавшим все на полпути и никогда не стремившимся к величию, он был второстепенным персонажем, который заставлял сильных сиять еще ярче, но не в этой жизни.\n",
      "\n",
      "Он поклялся себе, что будет стремиться к славе, он воспользуется своими знаниями и станет высшим существом!\n",
      "......\n",
      "Новый диссонанс: https://discord.gg/FTfXXYHnFT\n",
      "Это мой Патреон, приглашаю всех заглянуть! https://www.patreon.com/MidGard_Author\n",
      "https://www.webnovel.com/book/supremacy-games_17669339406351905\n"
     ]
    }
   ],
   "source": [
    "ind = 67\n",
    "print(rus_df.iloc[ind]['name'])\n",
    "print(rus_df.iloc[ind]['name_rus'], rus_df.iloc[ind]['rating'], rus_df.iloc[ind]['chapters'])\n",
    "print(rus_df.iloc[ind]['description_rus'])\n",
    "print(rus_df.iloc[ind]['href'])"
   ]
  },
  {
   "cell_type": "code",
   "execution_count": 20,
   "metadata": {},
   "outputs": [],
   "source": [
    "from selenium import webdriver\n",
    "\n",
    "# Определяем размер и положение окна браузера\n",
    "browser_size = [(2560/2, 1300, -2560, 0), (2560/2, 1300, -2560+2560/2, 0)]\n",
    "\n",
    "\n",
    "options = webdriver.ChromeOptions()\n",
    "options.add_argument(f\"--window-position={browserLeft},{browserTop}\")\n",
    "options.add_argument(f\"--window-size={browserWidth},{browserHeight}\")\n",
    "driver = webdriver.Chrome(options=options)\n",
    "\n",
    "\n",
    "# Загружаем страницу\n",
    "driver.get(\"https://www.google.com\")"
   ]
  }
 ],
 "metadata": {
  "kernelspec": {
   "display_name": "Python 3",
   "language": "python",
   "name": "python3"
  },
  "language_info": {
   "codemirror_mode": {
    "name": "ipython",
    "version": 3
   },
   "file_extension": ".py",
   "mimetype": "text/x-python",
   "name": "python",
   "nbconvert_exporter": "python",
   "pygments_lexer": "ipython3",
   "version": "3.11.3"
  },
  "orig_nbformat": 4,
  "vscode": {
   "interpreter": {
    "hash": "07fa51723cfdfdcfd96f4d831e9a58393b5ea734b6a2ccc6da0d746f7dd84b96"
   }
  }
 },
 "nbformat": 4,
 "nbformat_minor": 2
}
