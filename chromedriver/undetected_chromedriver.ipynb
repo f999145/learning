{
 "cells": [
  {
   "cell_type": "code",
   "execution_count": 121,
   "metadata": {},
   "outputs": [],
   "source": [
    "import undetected_chromedriver as uc\n",
    "from time import sleep as time_sleep\n",
    "from bs4 import BeautifulSoup as BS\n",
    "import pandas as pd\n",
    "from os.path import join as os_path_join\n",
    "from os import mkdir as os_mkdir"
   ]
  },
  {
   "cell_type": "code",
   "execution_count": 122,
   "metadata": {},
   "outputs": [
    {
     "data": {
      "text/plain": [
       "'https://www.webnovel.com'"
      ]
     },
     "execution_count": 122,
     "metadata": {},
     "output_type": "execute_result"
    }
   ],
   "source": [
    "url = '''\n",
    "\n",
    "https://www.webnovel.com/stories/novel?gender=1\n",
    "\n",
    "'''.strip()\n",
    "host = '/'.join(url.split('/', maxsplit=3)[:3])\n",
    "host"
   ]
  },
  {
   "cell_type": "code",
   "execution_count": 123,
   "metadata": {},
   "outputs": [],
   "source": [
    "driver = uc.Chrome()\n",
    "driver.get(url)"
   ]
  },
  {
   "cell_type": "code",
   "execution_count": 124,
   "metadata": {},
   "outputs": [],
   "source": [
    "for _ in range(50):\n",
    "    (driver.execute_script(\"window.scrollBy(0,1750)\"))\n",
    "    time_sleep(1)"
   ]
  },
  {
   "cell_type": "code",
   "execution_count": 125,
   "metadata": {},
   "outputs": [],
   "source": [
    "page = driver.page_source\n",
    "soup = BS(page, 'html.parser')"
   ]
  },
  {
   "cell_type": "code",
   "execution_count": 126,
   "metadata": {},
   "outputs": [],
   "source": [
    "table_0 = soup.find(attrs={'class':'f1'}).find(attrs={'class':'j_category_wrapper'}).find(attrs={'class':'clearfix'})\n",
    "table = table_0.find_all(attrs={'class':r'fl w50% bsbb pl20 pr20 pt8 pb8'}) "
   ]
  },
  {
   "cell_type": "code",
   "execution_count": 127,
   "metadata": {},
   "outputs": [
    {
     "data": {
      "text/html": [
       "<div>\n",
       "<style scoped>\n",
       "    .dataframe tbody tr th:only-of-type {\n",
       "        vertical-align: middle;\n",
       "    }\n",
       "\n",
       "    .dataframe tbody tr th {\n",
       "        vertical-align: top;\n",
       "    }\n",
       "\n",
       "    .dataframe thead th {\n",
       "        text-align: right;\n",
       "    }\n",
       "</style>\n",
       "<table border=\"1\" class=\"dataframe\">\n",
       "  <thead>\n",
       "    <tr style=\"text-align: right;\">\n",
       "      <th></th>\n",
       "      <th>name</th>\n",
       "      <th>chapters</th>\n",
       "      <th>rating</th>\n",
       "      <th>href</th>\n",
       "      <th>description</th>\n",
       "    </tr>\n",
       "  </thead>\n",
       "  <tbody>\n",
       "    <tr>\n",
       "      <th>0</th>\n",
       "      <td>Supreme Magus</td>\n",
       "      <td>2379</td>\n",
       "      <td>4.82</td>\n",
       "      <td>https://www.webnovel.com/book/supreme-magus_12...</td>\n",
       "      <td>Derek McCoy was a man who spent his entire lif...</td>\n",
       "    </tr>\n",
       "    <tr>\n",
       "      <th>1</th>\n",
       "      <td>My Vampire System</td>\n",
       "      <td>2137</td>\n",
       "      <td>4.60</td>\n",
       "      <td>https://www.webnovel.com/book/my-vampire-syste...</td>\n",
       "      <td>The human Race is at war with the Vicious Dalk...</td>\n",
       "    </tr>\n",
       "    <tr>\n",
       "      <th>2</th>\n",
       "      <td>Blood Warlock: Succubus Partner in the Apocalypse</td>\n",
       "      <td>1236</td>\n",
       "      <td>4.71</td>\n",
       "      <td>https://www.webnovel.com/book/blood-warlock-su...</td>\n",
       "      <td>The legendary mana finally reached planet Eart...</td>\n",
       "    </tr>\n",
       "    <tr>\n",
       "      <th>3</th>\n",
       "      <td>Shadow Slave</td>\n",
       "      <td>756</td>\n",
       "      <td>4.80</td>\n",
       "      <td>https://www.webnovel.com/book/shadow-slave_221...</td>\n",
       "      <td>Growing up in poverty, Sunny never expected an...</td>\n",
       "    </tr>\n",
       "    <tr>\n",
       "      <th>4</th>\n",
       "      <td>The Mech Touch</td>\n",
       "      <td>4613</td>\n",
       "      <td>4.65</td>\n",
       "      <td>https://www.webnovel.com/book/the-mech-touch_1...</td>\n",
       "      <td>After obtaining the Mech Designer System, Ves ...</td>\n",
       "    </tr>\n",
       "  </tbody>\n",
       "</table>\n",
       "</div>"
      ],
      "text/plain": [
       "                                                name  chapters  rating  \\\n",
       "0                                      Supreme Magus      2379    4.82   \n",
       "1                                  My Vampire System      2137    4.60   \n",
       "2  Blood Warlock: Succubus Partner in the Apocalypse      1236    4.71   \n",
       "3                                       Shadow Slave       756    4.80   \n",
       "4                                     The Mech Touch      4613    4.65   \n",
       "\n",
       "                                                href  \\\n",
       "0  https://www.webnovel.com/book/supreme-magus_12...   \n",
       "1  https://www.webnovel.com/book/my-vampire-syste...   \n",
       "2  https://www.webnovel.com/book/blood-warlock-su...   \n",
       "3  https://www.webnovel.com/book/shadow-slave_221...   \n",
       "4  https://www.webnovel.com/book/the-mech-touch_1...   \n",
       "\n",
       "                                         description  \n",
       "0  Derek McCoy was a man who spent his entire lif...  \n",
       "1  The human Race is at war with the Vicious Dalk...  \n",
       "2  The legendary mana finally reached planet Eart...  \n",
       "3  Growing up in poverty, Sunny never expected an...  \n",
       "4  After obtaining the Mech Designer System, Ves ...  "
      ]
     },
     "execution_count": 127,
     "metadata": {},
     "output_type": "execute_result"
    }
   ],
   "source": [
    "df = pd.DataFrame()\n",
    "\n",
    "elem: BS\n",
    "for index, elem in enumerate(table[:]):\n",
    "    \n",
    "    name_and_href = elem.find('div').find('h3', attrs={'class':r'fw700 lh20 fs16 ls0.15 ell mb4'}).find('a')\n",
    "    name = name_and_href.get('title')\n",
    "    href = host + name_and_href.get('href')\n",
    "    try:\n",
    "        description = elem.find('div').find('p', attrs={'class':r'fw400 lh20 fs14 ls0.2 c_l ells _2 mt4'}).text\n",
    "    except AttributeError as ex:\n",
    "        continue\n",
    "        \n",
    "    information = elem.find('div').find('p', attrs={'class':r'df aic'}).find_all('strong', attrs={'class':r'c_m fs0 ff_number vam mr16'})\n",
    "    cnt = False\n",
    "    inf: BS\n",
    "    for inf in information:\n",
    "        tmp = inf.find('span').text\n",
    "        if 'Chapters' in tmp:\n",
    "            capters = int(tmp.replace(' Chapters', ''))\n",
    "            if not cnt:\n",
    "                rating = float(0)    \n",
    "            break\n",
    "        else:\n",
    "            rating = float(tmp)\n",
    "            cnt = True\n",
    "    \n",
    "    df_temp = pd.DataFrame({\n",
    "        'name':[name],\n",
    "        'chapters':[capters],\n",
    "        'rating':[rating],\n",
    "        'href':[href],\n",
    "        'description':[description]\n",
    "    })\n",
    "    \n",
    "    df = pd.concat([df,df_temp], ignore_index=True, sort=False)\n",
    "df.head()"
   ]
  },
  {
   "cell_type": "code",
   "execution_count": 134,
   "metadata": {},
   "outputs": [
    {
     "name": "stdout",
     "output_type": "stream",
     "text": [
      "<class 'pandas.core.frame.DataFrame'>\n",
      "RangeIndex: 205 entries, 0 to 204\n",
      "Data columns (total 5 columns):\n",
      " #   Column       Non-Null Count  Dtype  \n",
      "---  ------       --------------  -----  \n",
      " 0   name         205 non-null    object \n",
      " 1   chapters     205 non-null    int64  \n",
      " 2   rating       205 non-null    float64\n",
      " 3   href         205 non-null    object \n",
      " 4   description  205 non-null    object \n",
      "dtypes: float64(1), int64(1), object(3)\n",
      "memory usage: 8.1+ KB\n"
     ]
    }
   ],
   "source": [
    "mask1 = df['rating'] > 4.5\n",
    "mask2 = df['chapters'] > 400\n",
    "df = df[mask1 & mask2].sort_values(by='rating', ascending=False, ignore_index=True)\n",
    "df.info()"
   ]
  },
  {
   "attachments": {},
   "cell_type": "markdown",
   "metadata": {},
   "source": [
    "---\n",
    "сохранение"
   ]
  },
  {
   "cell_type": "code",
   "execution_count": 135,
   "metadata": {},
   "outputs": [],
   "source": [
    "try:\n",
    "    os_mkdir(os_path_join('..','data'))\n",
    "except FileExistsError as ex:\n",
    "    pass\n",
    "df.to_csv(\n",
    "    os_path_join('..','data', 'webnovel.zip'), \n",
    "    index=False,\n",
    "    compression={'method':'zip', 'archive_name':'webnovel.csv'}\n",
    "    )"
   ]
  },
  {
   "cell_type": "code",
   "execution_count": 139,
   "metadata": {},
   "outputs": [
    {
     "data": {
      "text/plain": [
       "'https://www.webnovel.com/book/my-three-wives-are-beautiful-vampires._20553633305398405'"
      ]
     },
     "execution_count": 139,
     "metadata": {},
     "output_type": "execute_result"
    }
   ],
   "source": [
    "df.iloc[3]['href']"
   ]
  },
  {
   "attachments": {},
   "cell_type": "markdown",
   "metadata": {},
   "source": [
    "---"
   ]
  },
  {
   "cell_type": "code",
   "execution_count": 146,
   "metadata": {},
   "outputs": [
    {
     "name": "stdout",
     "output_type": "stream",
     "text": [
      "<class 'pandas.core.frame.DataFrame'>\n",
      "RangeIndex: 205 entries, 0 to 204\n",
      "Data columns (total 7 columns):\n",
      " #   Column           Non-Null Count  Dtype  \n",
      "---  ------           --------------  -----  \n",
      " 0   name             205 non-null    object \n",
      " 1   name_rus         205 non-null    object \n",
      " 2   chapters         205 non-null    int64  \n",
      " 3   rating           205 non-null    float64\n",
      " 4   href             205 non-null    object \n",
      " 5   description      205 non-null    object \n",
      " 6   description_rus  205 non-null    object \n",
      "dtypes: float64(1), int64(1), object(5)\n",
      "memory usage: 11.3+ KB\n"
     ]
    }
   ],
   "source": [
    "name = 'webnovel_rus_name'\n",
    "rus_df = pd.read_csv(os_path_join('..','data', f'{name}.zip'))\n",
    "rus_df.info()"
   ]
  },
  {
   "cell_type": "code",
   "execution_count": 243,
   "metadata": {},
   "outputs": [
    {
     "name": "stdout",
     "output_type": "stream",
     "text": [
      "Headed by a Snake\n",
      "Возглавляемый змеей 4.7 982\n",
      "Я проснулся в этом мире с Системой и мечом. Без колебаний я решил выполнить задание принцессы с помощью своего оружия: Высокомерия. Хитрость. Гордость. Я возглавлю гильдию Sol Invictus. Обитатели 7 преисподних, уважайте меня. Слуги 11 небес, познайте страх. Гильдия Непокоренных, познайте страдания тренировок, чтобы вы могли вырвать победу из пасти тех, кто осмеливается сомневаться в вас. \n",
      "\n",
      "Это история о змее по имени Тайкондриус, просыпающейся в фантастическом мире мечей и волшебства. Есть действие, насилие, \n",
      "непримиримое убийство и высокомерная демонстрация власти. Более чем у нескольких членов гильдии Invictus делается акцент на боевом росте, а также на психологическом росте. Существует дух товарищества, а также неизбежный комедийный диалог между мужественными мужчинами. Есть даже элементы романтики и Тайкона, убегающего от ужасающих, могущественных женщин. (Знаете ли вы, что большинство самок змей поедают своих партнеров после спаривания?) \n",
      "\n",
      "Прочтите эту книгу. Я надеюсь, что некоторые из этих историй смогут вдохновить вас на борьбу с \n",
      "аналитический интеллект, героическое мужество и безжалостная смертоносность. \n",
      "\n",
      "Расписание: более 5 глав в неделю. \n",
      "Пн-пт @ 11:00 PDT\n",
      "Длина главы: более 1000 слов в главе \n",
      "\n",
      "Вот мой дискорд: https://discord.gg/NNbAj7N \n",
      "Конструктивная критика и исправления приветствуются. Другие авторы дополнительно- приветствуются.\n",
      "\n",
      "Вы можете найти список персонажей по адресу https://snek.fandom.com/wiki/Character_List\n",
      "\n",
      "Изображение на обложке предоставлено: Джонабрашем из Fiverr\n",
      "https://www.webnovel.com/book/headed-by-a-snake_15841414105106005\n"
     ]
    }
   ],
   "source": [
    "ind = 70\n",
    "print(rus_df.iloc[ind]['name'])\n",
    "print(rus_df.iloc[ind]['name_rus'], rus_df.iloc[ind]['rating'], rus_df.iloc[ind]['chapters'])\n",
    "print(rus_df.iloc[ind]['description_rus'])\n",
    "print(rus_df.iloc[ind]['href'])"
   ]
  },
  {
   "cell_type": "code",
   "execution_count": 242,
   "metadata": {},
   "outputs": [
    {
     "data": {
      "text/plain": [
       "0                           Система чрезмерного разрыва\n",
       "1                                    Путешествие демона\n",
       "2                   Мои Три Жены - Прекрасные Вампирши.\n",
       "3          Я Могу Усовершенствовать Свой Талант Во Всем\n",
       "4     Возрожденный как Призрак: Время Создавать Мою ...\n",
       "5     Что вы имеете в виду, мои милые ученики - Янде...\n",
       "6                                    Эпопея с гусеницей\n",
       "7     Совершенно Новая Жизнь Онлайн: Восстание Богин...\n",
       "8               Код Зулу Альфа: Ботаник в Апокалипсисе!\n",
       "9     Культиватор с современным искусственным интелл...\n",
       "10                        Сильнейший Некромант Врат Рая\n",
       "11      Моя девушка - искательница приключений S-класса\n",
       "12                                  Re: Эволюция онлайн\n",
       "13                         Гарем эсперов в Апокалипсисе\n",
       "14                                Скучающий бессмертный\n",
       "15                                      Повелитель тайн\n",
       "16                                 Влияние богов онлайн\n",
       "17                                   Выращивание онлайн\n",
       "18                                       Мой дом ужасов\n",
       "19         Универсальная Суперзвезда: Взлет в Голливуде\n",
       "20                              Двойное культивирование\n",
       "21    Возрождение королевы демонов: Я перевоплотилас...\n",
       "22                              Великолепный белый (BL)\n",
       "23                                  преподобное безумие\n",
       "24                                        Верховный маг\n",
       "25                                      Наследник хаоса\n",
       "26                                   Восстание Антибога\n",
       "27                          Нечестивый принц господства\n",
       "28                      Скучающий геймер в других мирах\n",
       "29    Система эволюции родословной: Царствование зме...\n",
       "30    Возрождение Призывателя вампиров: Вызов Короле...\n",
       "31                                          Теневой раб\n",
       "32                      Разрушаю свой собственный роман\n",
       "33    Бесконечное прокачивание с помощью самой сильн...\n",
       "34                                Уход злодея на пенсию\n",
       "35    Перевоплотился С неисправной системой: Почему ...\n",
       "36                                       Владыка Истины\n",
       "37     MMORPG : Возрождение Сильнейшего Мастера Гильдии\n",
       "38                                    Мастер ни над кем\n",
       "39                     Наемный убийца с крутой системой\n",
       "40          Путешествие императора, разрушающего судьбу\n",
       "41                                             Маг огня\n",
       "42                     Подбираю девушек по Моей системе\n",
       "43                      Мерзкое Зло Прячется Под Вуалью\n",
       "44    Дисфункциональный - Руководство убийцы по пере...\n",
       "45                                       Сансара онлайн\n",
       "46                             Восстание Белого дракона\n",
       "47                             Система супер некроманта\n",
       "48                                  Точка зрения автора\n",
       "49                                         Пути Оракула\n",
       "50                           Злодейка с гаремом героини\n",
       "51                           Духовное совершенствование\n",
       "52      RE: Моя девушка-Дракон в Драконьем апокалипсисе\n",
       "53                   Возвышение первобытного извращенца\n",
       "54              Перевоплотился с Самой сильной системой\n",
       "55         Зенит Онлайн: Возрождение сильнейшего игрока\n",
       "56                                 Миф за пределами рая\n",
       "57                Я мог Бы быть Фальшивым Культиватором\n",
       "58                            Я не могу быть Богом Меча\n",
       "59                                       Зона поражения\n",
       "Name: name_rus, dtype: object"
      ]
     },
     "execution_count": 242,
     "metadata": {},
     "output_type": "execute_result"
    }
   ],
   "source": [
    "rus_df['name_rus'].head(60)"
   ]
  }
 ],
 "metadata": {
  "kernelspec": {
   "display_name": "Python 3",
   "language": "python",
   "name": "python3"
  },
  "language_info": {
   "codemirror_mode": {
    "name": "ipython",
    "version": 3
   },
   "file_extension": ".py",
   "mimetype": "text/x-python",
   "name": "python",
   "nbconvert_exporter": "python",
   "pygments_lexer": "ipython3",
   "version": "3.11.0"
  },
  "orig_nbformat": 4,
  "vscode": {
   "interpreter": {
    "hash": "07fa51723cfdfdcfd96f4d831e9a58393b5ea734b6a2ccc6da0d746f7dd84b96"
   }
  }
 },
 "nbformat": 4,
 "nbformat_minor": 2
}
