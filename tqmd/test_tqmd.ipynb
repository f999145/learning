{
 "cells": [
  {
   "cell_type": "code",
   "execution_count": 10,
   "metadata": {},
   "outputs": [],
   "source": [
    "from tqdm import tqdm, trange\n",
    "from time import sleep\n",
    "\n",
    "data = list(range(10))"
   ]
  },
  {
   "cell_type": "code",
   "execution_count": 14,
   "metadata": {},
   "outputs": [
    {
     "name": "stderr",
     "output_type": "stream",
     "text": [
      "100%|##########| 10/10 [00:01<00:00,  9.86it/s]\n",
      "100%|##########| 10/10 [00:01<00:00,  9.87it/s]02s/it]\n",
      "100%|##########| 10/10 [00:01<00:00,  9.87it/s]01s/it]\n",
      "100%|##########| 10/10 [00:01<00:00,  9.86it/s]01s/it]\n",
      "100%|##########| 10/10 [00:01<00:00,  9.88it/s]02s/it]\n",
      "100%|##########| 10/10 [00:01<00:00,  9.87it/s]02s/it]\n",
      "100%|##########| 10/10 [00:01<00:00,  9.86it/s]02s/it]\n",
      "100%|##########| 10/10 [00:01<00:00,  9.87it/s]02s/it]\n",
      "100%|##########| 10/10 [00:01<00:00,  9.86it/s]02s/it]\n",
      "100%|##########| 10/10 [00:01<00:00,  9.87it/s]02s/it]\n",
      "privet: 100%|██████████| 10/10 [00:10<00:00,  1.02s/it]\n"
     ]
    }
   ],
   "source": [
    "for item in tqdm(data,  desc='privet'):\n",
    "    for i in trange(0,10,1, ascii=True):\n",
    "        sleep(0.1)"
   ]
  }
 ],
 "metadata": {
  "kernelspec": {
   "display_name": "Python 3.11.0 64-bit",
   "language": "python",
   "name": "python3"
  },
  "language_info": {
   "codemirror_mode": {
    "name": "ipython",
    "version": 3
   },
   "file_extension": ".py",
   "mimetype": "text/x-python",
   "name": "python",
   "nbconvert_exporter": "python",
   "pygments_lexer": "ipython3",
   "version": "3.11.0"
  },
  "orig_nbformat": 4,
  "vscode": {
   "interpreter": {
    "hash": "07fa51723cfdfdcfd96f4d831e9a58393b5ea734b6a2ccc6da0d746f7dd84b96"
   }
  }
 },
 "nbformat": 4,
 "nbformat_minor": 2
}
