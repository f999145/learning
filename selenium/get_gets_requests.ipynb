{
 "cells": [
  {
   "cell_type": "code",
   "execution_count": 6,
   "metadata": {},
   "outputs": [],
   "source": [
    "from selenium import webdriver\n",
    "\n",
    "proxy = \"http://127.0.0.1:8080\"  # Используйте порт, который вы указали в mitmproxy\n",
    "\n",
    "chrome_options = webdriver.ChromeOptions()\n",
    "chrome_options.add_argument(\"--proxy-server={}\".format(proxy))\n",
    "driver = webdriver.Chrome(options=chrome_options)\n"
   ]
  },
  {
   "cell_type": "code",
   "execution_count": 7,
   "metadata": {},
   "outputs": [],
   "source": [
    "url = 'https://www.hdrezka.sh/'\n",
    "# url = 'https://www.google.com/'\n",
    "driver.get(url)\n"
   ]
  },
  {
   "cell_type": "code",
   "execution_count": 19,
   "metadata": {},
   "outputs": [
    {
     "ename": "InvalidArgumentException",
     "evalue": "Message: invalid argument: Invalid parameters\n  (Session info: chrome=120.0.6099.130)\nStacktrace:\n\tGetHandleVerifier [0x00007FF6950B2142+3514994]\n\t(No symbol) [0x00007FF694CD0CE2]\n\t(No symbol) [0x00007FF694B776AA]\n\t(No symbol) [0x00007FF694B610E3]\n\t(No symbol) [0x00007FF694B5EE85]\n\t(No symbol) [0x00007FF694B5F7CE]\n\t(No symbol) [0x00007FF694B5F700]\n\t(No symbol) [0x00007FF694B7A803]\n\t(No symbol) [0x00007FF694C1040E]\n\t(No symbol) [0x00007FF694BE5FEA]\n\t(No symbol) [0x00007FF694C028F6]\n\t(No symbol) [0x00007FF694BE5D93]\n\t(No symbol) [0x00007FF694BB4BDC]\n\t(No symbol) [0x00007FF694BB5C64]\n\tGetHandleVerifier [0x00007FF6950DE16B+3695259]\n\tGetHandleVerifier [0x00007FF695136737+4057191]\n\tGetHandleVerifier [0x00007FF69512E4E3+4023827]\n\tGetHandleVerifier [0x00007FF694E004F9+689705]\n\t(No symbol) [0x00007FF694CDC048]\n\t(No symbol) [0x00007FF694CD8044]\n\t(No symbol) [0x00007FF694CD81C9]\n\t(No symbol) [0x00007FF694CC88C4]\n\tBaseThreadInitThunk [0x00007FFED72D257D+29]\n\tRtlUserThreadStart [0x00007FFED742AA58+40]\n",
     "output_type": "error",
     "traceback": [
      "\u001b[1;31m---------------------------------------------------------------------------\u001b[0m",
      "\u001b[1;31mInvalidArgumentException\u001b[0m                  Traceback (most recent call last)",
      "Cell \u001b[1;32mIn[19], line 2\u001b[0m\n\u001b[0;32m      1\u001b[0m \u001b[38;5;66;03m# Получение журнала событий сетевого трафика\u001b[39;00m\n\u001b[1;32m----> 2\u001b[0m network_events \u001b[38;5;241m=\u001b[39m \u001b[43mdriver\u001b[49m\u001b[38;5;241;43m.\u001b[39;49m\u001b[43mexecute_cdp_cmd\u001b[49m\u001b[43m(\u001b[49m\u001b[38;5;124;43m\"\u001b[39;49m\u001b[38;5;124;43mNetwork.getResponseBody\u001b[39;49m\u001b[38;5;124;43m\"\u001b[39;49m\u001b[43m,\u001b[49m\u001b[43m \u001b[49m\u001b[43m{\u001b[49m\u001b[43m}\u001b[49m\u001b[43m)\u001b[49m\n\u001b[0;32m      4\u001b[0m \u001b[38;5;66;03m# Вывод URL всех запросов\u001b[39;00m\n\u001b[0;32m      5\u001b[0m \u001b[38;5;28;01mfor\u001b[39;00m entry \u001b[38;5;129;01min\u001b[39;00m network_events[\u001b[38;5;124m'\u001b[39m\u001b[38;5;124mlog\u001b[39m\u001b[38;5;124m'\u001b[39m][\u001b[38;5;124m'\u001b[39m\u001b[38;5;124mentries\u001b[39m\u001b[38;5;124m'\u001b[39m]:\n",
      "File \u001b[1;32mc:\\Users\\f999145\\AppData\\Local\\Programs\\Python\\Python312\\Lib\\site-packages\\selenium\\webdriver\\chromium\\webdriver.py:136\u001b[0m, in \u001b[0;36mChromiumDriver.execute_cdp_cmd\u001b[1;34m(self, cmd, cmd_args)\u001b[0m\n\u001b[0;32m    118\u001b[0m \u001b[38;5;28;01mdef\u001b[39;00m \u001b[38;5;21mexecute_cdp_cmd\u001b[39m(\u001b[38;5;28mself\u001b[39m, cmd: \u001b[38;5;28mstr\u001b[39m, cmd_args: \u001b[38;5;28mdict\u001b[39m):\n\u001b[0;32m    119\u001b[0m \u001b[38;5;250m    \u001b[39m\u001b[38;5;124;03m\"\"\"Execute Chrome Devtools Protocol command and get returned result The\u001b[39;00m\n\u001b[0;32m    120\u001b[0m \u001b[38;5;124;03m    command and command args should follow chrome devtools protocol\u001b[39;00m\n\u001b[0;32m    121\u001b[0m \u001b[38;5;124;03m    domains/commands, refer to link\u001b[39;00m\n\u001b[1;32m   (...)\u001b[0m\n\u001b[0;32m    134\u001b[0m \u001b[38;5;124;03m        {'base64Encoded': False, 'body': 'response body string'}\u001b[39;00m\n\u001b[0;32m    135\u001b[0m \u001b[38;5;124;03m    \"\"\"\u001b[39;00m\n\u001b[1;32m--> 136\u001b[0m     \u001b[38;5;28;01mreturn\u001b[39;00m \u001b[38;5;28;43mself\u001b[39;49m\u001b[38;5;241;43m.\u001b[39;49m\u001b[43mexecute\u001b[49m\u001b[43m(\u001b[49m\u001b[38;5;124;43m\"\u001b[39;49m\u001b[38;5;124;43mexecuteCdpCommand\u001b[39;49m\u001b[38;5;124;43m\"\u001b[39;49m\u001b[43m,\u001b[49m\u001b[43m \u001b[49m\u001b[43m{\u001b[49m\u001b[38;5;124;43m\"\u001b[39;49m\u001b[38;5;124;43mcmd\u001b[39;49m\u001b[38;5;124;43m\"\u001b[39;49m\u001b[43m:\u001b[49m\u001b[43m \u001b[49m\u001b[43mcmd\u001b[49m\u001b[43m,\u001b[49m\u001b[43m \u001b[49m\u001b[38;5;124;43m\"\u001b[39;49m\u001b[38;5;124;43mparams\u001b[39;49m\u001b[38;5;124;43m\"\u001b[39;49m\u001b[43m:\u001b[49m\u001b[43m \u001b[49m\u001b[43mcmd_args\u001b[49m\u001b[43m}\u001b[49m\u001b[43m)\u001b[49m[\u001b[38;5;124m\"\u001b[39m\u001b[38;5;124mvalue\u001b[39m\u001b[38;5;124m\"\u001b[39m]\n",
      "File \u001b[1;32mc:\\Users\\f999145\\AppData\\Local\\Programs\\Python\\Python312\\Lib\\site-packages\\selenium\\webdriver\\remote\\webdriver.py:348\u001b[0m, in \u001b[0;36mWebDriver.execute\u001b[1;34m(self, driver_command, params)\u001b[0m\n\u001b[0;32m    346\u001b[0m response \u001b[38;5;241m=\u001b[39m \u001b[38;5;28mself\u001b[39m\u001b[38;5;241m.\u001b[39mcommand_executor\u001b[38;5;241m.\u001b[39mexecute(driver_command, params)\n\u001b[0;32m    347\u001b[0m \u001b[38;5;28;01mif\u001b[39;00m response:\n\u001b[1;32m--> 348\u001b[0m     \u001b[38;5;28;43mself\u001b[39;49m\u001b[38;5;241;43m.\u001b[39;49m\u001b[43merror_handler\u001b[49m\u001b[38;5;241;43m.\u001b[39;49m\u001b[43mcheck_response\u001b[49m\u001b[43m(\u001b[49m\u001b[43mresponse\u001b[49m\u001b[43m)\u001b[49m\n\u001b[0;32m    349\u001b[0m     response[\u001b[38;5;124m\"\u001b[39m\u001b[38;5;124mvalue\u001b[39m\u001b[38;5;124m\"\u001b[39m] \u001b[38;5;241m=\u001b[39m \u001b[38;5;28mself\u001b[39m\u001b[38;5;241m.\u001b[39m_unwrap_value(response\u001b[38;5;241m.\u001b[39mget(\u001b[38;5;124m\"\u001b[39m\u001b[38;5;124mvalue\u001b[39m\u001b[38;5;124m\"\u001b[39m, \u001b[38;5;28;01mNone\u001b[39;00m))\n\u001b[0;32m    350\u001b[0m     \u001b[38;5;28;01mreturn\u001b[39;00m response\n",
      "File \u001b[1;32mc:\\Users\\f999145\\AppData\\Local\\Programs\\Python\\Python312\\Lib\\site-packages\\selenium\\webdriver\\remote\\errorhandler.py:229\u001b[0m, in \u001b[0;36mErrorHandler.check_response\u001b[1;34m(self, response)\u001b[0m\n\u001b[0;32m    227\u001b[0m         alert_text \u001b[38;5;241m=\u001b[39m value[\u001b[38;5;124m\"\u001b[39m\u001b[38;5;124malert\u001b[39m\u001b[38;5;124m\"\u001b[39m]\u001b[38;5;241m.\u001b[39mget(\u001b[38;5;124m\"\u001b[39m\u001b[38;5;124mtext\u001b[39m\u001b[38;5;124m\"\u001b[39m)\n\u001b[0;32m    228\u001b[0m     \u001b[38;5;28;01mraise\u001b[39;00m exception_class(message, screen, stacktrace, alert_text)  \u001b[38;5;66;03m# type: ignore[call-arg]  # mypy is not smart enough here\u001b[39;00m\n\u001b[1;32m--> 229\u001b[0m \u001b[38;5;28;01mraise\u001b[39;00m exception_class(message, screen, stacktrace)\n",
      "\u001b[1;31mInvalidArgumentException\u001b[0m: Message: invalid argument: Invalid parameters\n  (Session info: chrome=120.0.6099.130)\nStacktrace:\n\tGetHandleVerifier [0x00007FF6950B2142+3514994]\n\t(No symbol) [0x00007FF694CD0CE2]\n\t(No symbol) [0x00007FF694B776AA]\n\t(No symbol) [0x00007FF694B610E3]\n\t(No symbol) [0x00007FF694B5EE85]\n\t(No symbol) [0x00007FF694B5F7CE]\n\t(No symbol) [0x00007FF694B5F700]\n\t(No symbol) [0x00007FF694B7A803]\n\t(No symbol) [0x00007FF694C1040E]\n\t(No symbol) [0x00007FF694BE5FEA]\n\t(No symbol) [0x00007FF694C028F6]\n\t(No symbol) [0x00007FF694BE5D93]\n\t(No symbol) [0x00007FF694BB4BDC]\n\t(No symbol) [0x00007FF694BB5C64]\n\tGetHandleVerifier [0x00007FF6950DE16B+3695259]\n\tGetHandleVerifier [0x00007FF695136737+4057191]\n\tGetHandleVerifier [0x00007FF69512E4E3+4023827]\n\tGetHandleVerifier [0x00007FF694E004F9+689705]\n\t(No symbol) [0x00007FF694CDC048]\n\t(No symbol) [0x00007FF694CD8044]\n\t(No symbol) [0x00007FF694CD81C9]\n\t(No symbol) [0x00007FF694CC88C4]\n\tBaseThreadInitThunk [0x00007FFED72D257D+29]\n\tRtlUserThreadStart [0x00007FFED742AA58+40]\n"
     ]
    }
   ],
   "source": [
    "# Получение журнала событий сетевого трафика\n",
    "network_events = driver.execute_cdp_cmd(\"Network.getResponseBody\", {})\n",
    "\n",
    "# Вывод URL всех запросов\n",
    "for entry in network_events['log']['entries']:\n",
    "    print(entry['request']['url'])\n",
    "\n",
    "# # Закрытие браузера\n",
    "# driver.quit()"
   ]
  }
 ],
 "metadata": {
  "kernelspec": {
   "display_name": "Python 3",
   "language": "python",
   "name": "python3"
  },
  "language_info": {
   "codemirror_mode": {
    "name": "ipython",
    "version": 3
   },
   "file_extension": ".py",
   "mimetype": "text/x-python",
   "name": "python",
   "nbconvert_exporter": "python",
   "pygments_lexer": "ipython3",
   "version": "3.12.0"
  }
 },
 "nbformat": 4,
 "nbformat_minor": 2
}
