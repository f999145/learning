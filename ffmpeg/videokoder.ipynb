{
 "cells": [
  {
   "cell_type": "code",
   "execution_count": 2,
   "metadata": {},
   "outputs": [],
   "source": [
    "import os\n",
    "import subprocess"
   ]
  },
  {
   "cell_type": "code",
   "execution_count": 3,
   "metadata": {},
   "outputs": [],
   "source": [
    "link = 'https://youtu.be/RU4QW0itpJk'\n",
    "\n",
    "name = 'THE CALLISTO PROTOCOL 02'\n",
    "\n",
    "resolution=\"2160\"\n",
    "\n",
    "path = os.path.join('a:\\\\', 'youtube')\n",
    "\n",
    "vdict = {'res': 'webm', 'video_id': 3, 'audio_id': 21}"
   ]
  },
  {
   "cell_type": "code",
   "execution_count": 6,
   "metadata": {},
   "outputs": [],
   "source": [
    "# args = [\n",
    "#     'ffmpeg', # какую прогамму запустить\n",
    "#     '-y', # если файл существует, заменить без уведомления\n",
    "#     '-i', # Указывает что дальше будет файл\n",
    "#     str(os.path.join(path, name + \".\" + vdict['res'])),\n",
    "#     '-c:v', # указание на кодировку видео\n",
    "#     'h264_nvenc', # кодек видео\n",
    "#     '-crf', # Качесто видео\n",
    "#     '18', # Чем меньше тем выше качество и больше видео\n",
    "#     '-profile:v', # профиль видео для декодера\n",
    "#     'high', # профиль видео\n",
    "#     '-level', # уровень видео для декодера\n",
    "#     '5.2', # уровень видео\n",
    "#     str(os.path.join(path, name +' converted'+\".mp4\"))\n",
    "# ]\n",
    "# # resolution 1440p           \n",
    "# # cpu           speed=1.85x\n",
    "# # cpu+gpu       speed= 1.5x\n",
    "# # gpu(nvenc)    speed=4.29x\n",
    "# subprocess.run(args)"
   ]
  },
  {
   "cell_type": "code",
   "execution_count": 7,
   "metadata": {},
   "outputs": [],
   "source": [
    "# # разбитие видео на равные по времени фрагменты\n",
    "# args = [\n",
    "#     'ffmpeg',\n",
    "#     '-i',\n",
    "#     str(os.path.join(path, name +\".mp4\")),\n",
    "#     '-c',\n",
    "#     'copy',\n",
    "#     '-map', '0', # Выбор потоков с помощью опции -map \n",
    "#     '-segment_time', '02:00:00',\n",
    "#     '-f', 'segment',\n",
    "#     str(os.path.join(path, name +' output%03d'+\".mp4\")),\n",
    "#     ]\n",
    "# # subprocess.run(args)\n",
    "# print(' '.join(args))"
   ]
  },
  {
   "cell_type": "code",
   "execution_count": 8,
   "metadata": {},
   "outputs": [
    {
     "name": "stdout",
     "output_type": "stream",
     "text": [
      "ffmpeg -y -i \"a:\\youtube\\THE CALLISTO PROTOCOL 02.webm\" -vf scale=-1:1440 -c:v prores_ks -profile:v 2 -vendor apl0 -bits_per_mb 200 -alpha_bits 0 -pix_fmt yuv422p10le -segment_time 00:02:00 -f segment \"a:\\youtube\\THE CALLISTO PROTOCOL 02 output%03d.mov\"\n"
     ]
    }
   ],
   "source": [
    "# Кодирование в Apple ProRes\n",
    "#  link: https://ottverse.com/ffmpeg-convert-to-apple-prores-422-4444-hq/\n",
    "args =[\n",
    "    'ffmpeg', '-y', '-i', '\"' + os.path.join(path, name + \".\" + vdict['res']) + '\"',\n",
    "    \n",
    "    '-vf', 'scale=-1:1440', # Specify the Height To Retain the Aspect Ratio\n",
    "                            # https://ottverse.com/change-resolution-resize-scale-video-using-ffmpeg/\n",
    "    \n",
    "    # '-r', '24',             # frame rate\n",
    "    \n",
    "    '-c:v', 'prores_ks',    # FFmpeg contains two ProRes encoders, the prores-aw and prores-ks encoder.\n",
    "                            # You can choose the encoder you want using the -vcodec option.\n",
    "    \n",
    "    '-profile:v', '2',      # You can use this option to choose the ProRes profile to encode.\n",
    "                            # proxy (0)\n",
    "                            # lt (1)\n",
    "                            # standard (2)\n",
    "                            # hq (3)\n",
    "                            # 4444 (4)\n",
    "                            # 4444xq (5)\n",
    "    \n",
    "    '-vendor', 'apl0',      # Override the 4-byte vendor ID. A custom vendor ID like apl0 would\n",
    "                            # claim the stream was produced by the Apple encoder.\n",
    "    \n",
    "    '-bits_per_mb', '200', # How many bits to allot for coding one macroblock.\n",
    "                            # Different profiles use between 200 and 2400 bits per macroblock,\n",
    "                            # the maximum is 8000.\n",
    "                            # expected bitrate\n",
    "                            # (frame_width / 16) * (frame_height / 16) * fps * bits_per_mb\n",
    "    \n",
    "    '-alpha_bits', '0', # Possible values are 0, 8 and 16. Use 0 to disable alpha plane coding.\n",
    "    \n",
    "    '-pix_fmt', 'yuv422p10le',  # 8-bit 4:2:0: yuv420p\n",
    "                                # 8-bit 4:2:2: yuv422p\n",
    "                                # 8-bit 4:4:4: yuv444p\n",
    "                                # 10-bit 4:2:0: yuv420p10le\n",
    "                                # 10-bit 4:2:2: yuv422p10le\n",
    "                                # 10-bit 4:4:4: yuv444p10le \n",
    "    \n",
    "    '-segment_time', '00:02:00',\n",
    "    '-f', 'segment',\n",
    "    \n",
    "    '\"' + os.path.join(path, name +' output%03d'+\".mov\") + '\"'\n",
    "]\n",
    "print(' '.join(args))"
   ]
  },
  {
   "cell_type": "code",
   "execution_count": 4,
   "metadata": {},
   "outputs": [
    {
     "name": "stdout",
     "output_type": "stream",
     "text": [
      "ffmpeg -y -ss 01:00:00 -i \"a:\\youtube\\THE CALLISTO PROTOCOL 02.webm\" -vf scale=-1:1440 -c:v dnxhd -profile:v dnxhr_lb -c:a aac -b:a 192k -alpha_bits 0 \"a:\\youtube\\THE CALLISTO PROTOCOL 02 output.mov\"\n"
     ]
    }
   ],
   "source": [
    "# Кодирование в Avid DNxHD\n",
    "args =[\n",
    "    'ffmpeg', '-y', \n",
    "    \n",
    "    '-ss', '01:00:00', # '-to', '02:00:00', # вырезать фрагмент видео\n",
    "    \n",
    "    '-i', '\"' + os.path.join(path, name + \".\" + vdict['res']) + '\"',\n",
    "        \n",
    "    '-vf', 'scale=-1:1440', # Specify the Height To Retain the Aspect Ratio\n",
    "                            # https://ottverse.com/change-resolution-resize-scale-video-using-ffmpeg/\n",
    "    \n",
    "    # '-r', '24',             # frame rate\n",
    "    \n",
    "    '-c:v', 'dnxhd',        # FFmpeg contains two ProRes encoders, the prores-aw and prores-ks encoder.\n",
    "                            # You can choose the encoder you want using the -vcodec option.\n",
    "    \n",
    "    '-profile:v', 'dnxhr_lb',  \n",
    "                                # DNxHR LB: dnxhr_lb - Low Bandwidth. 8-bit 4:2:2 (yuv422p). Offline Quality.\n",
    "                                # DNxHR SQ: dnxhr_sq - Standard Quality. 8-bit 4:2:2 (yuv422p). Suitable for delivery format.\n",
    "                                # DNxHR HQ: dnxhr_hq - High Quality. 8-bit 4:2:2 (yuv422p).\n",
    "                                # DNxHR HQX: dnxhr_hqx - High Quality. 10-bit 4:2:2 (yuv422p10le). UHD/4K Broadcast-quality delivery.\n",
    "                                # DNxHR 444: dnxhr_444 - Finishing Quality. 10-bit 4:4:4 (yuv444p10le). Cinema-quality delivery.\n",
    "    \n",
    "    \n",
    "    \n",
    "    '-c:a', 'aac', '-b:a', '192k', # кодирование аудио\n",
    "\n",
    "    \n",
    "    '-alpha_bits', '0', # Possible values are 0, 8 and 16. Use 0 to disable alpha plane coding.\n",
    "    \n",
    "    # '-pix_fmt', 'yuv422p',  # 8-bit 4:2:0: yuv420p\n",
    "                                # 8-bit 4:2:2: yuv422p\n",
    "                                # 8-bit 4:4:4: yuv444p\n",
    "                                # 10-bit 4:2:0: yuv420p10le\n",
    "                                # 10-bit 4:2:2: yuv422p10le\n",
    "                                # 10-bit 4:4:4: yuv444p10le \n",
    "    \n",
    "    # \n",
    "    # '-f', 'segment', # делить видео на фрагменты\n",
    "    # '-segment_time', '00:02:00', \n",
    "    # '-reset_timestamps', '1',\n",
    "    # '\"' + os.path.join(path, name +' output%03d'+\".mov\") + '\"'\n",
    "    \n",
    "    '\"' + os.path.join(path, name +' output'+\".mov\") + '\"'\n",
    "]\n",
    "print(' '.join(args))"
   ]
  },
  {
   "cell_type": "markdown",
   "metadata": {},
   "source": [
    "Сокращение с использованием длительности \n",
    "> ffmpeg -i input.mp4 -ss 00:05:20 -t 00:10:00 -c:v copy -c:a copy output1.mp4\n",
    "Приведенная выше команда будет принимать входное видео input.mp4, и вырежет из него 10 минут , начиная с 00:05:20\n",
    "\n",
    "Вырезать, используя определенное время \n",
    "> ffmpeg -i input.mp4 -ss 00:05:10 -to 00:15:30 -c:v copy -c:a copy output2.mp4\n",
    "\n",
    "Вырезать конец видео\n",
    "> ffmpeg -sseof -600 -i input.mp4 -c copy output5.mp4\n",
    "> ffmpeg -sseof -00:10:00 -i input.mp4 -c copy output6.mp4\n",
    "\n",
    "Вырезание с перекодированием\n",
    "> ffmpeg -ss 00:05:20 -accurate_seek -i input.mp4 -t 00:10:00 -c:v libx264 -c:a aac output7.mp4\n",
    "> \n",
    "В приведенной выше команде мы перекодируем аудио и видео при вырезании видео, а также используем `-accurate_seek` установите флажок, который приведет к более точной длине выходного видео. \n"
   ]
  },
  {
   "cell_type": "markdown",
   "metadata": {},
   "source": [
    "---"
   ]
  },
  {
   "cell_type": "markdown",
   "metadata": {},
   "source": [
    "For Windows:\n",
    "\n",
    "Here I'm Converting all the (.mp4) files to (.mp3) files.\n",
    "Just open cmd, goto the desired folder and type the command.\n",
    "\n",
    "Shortcut: (optional)\n",
    "1. Goto the folder where your (.mp4) files are present\n",
    "2. Press Shift and Left click and Choose \"Open PowerShell Window Here\"\n",
    "or \"Open Command Prompt Window Here\"\n",
    "3. Type \"cmd\" [NOTE: Skip this step if it directly opens cmd instead of PowerShell]\n",
    "4. Run the command\n",
    "\n",
    "```for %i in (*.mp4) do ffmpeg -i \"%i\" \"%~ni.mp3\"```\n",
    "\n",
    "If you want to put this into a batch file on Windows 10, you need to use %%i."
   ]
  }
 ],
 "metadata": {
  "kernelspec": {
   "display_name": "Python 3.11.0 64-bit",
   "language": "python",
   "name": "python3"
  },
  "language_info": {
   "codemirror_mode": {
    "name": "ipython",
    "version": 3
   },
   "file_extension": ".py",
   "mimetype": "text/x-python",
   "name": "python",
   "nbconvert_exporter": "python",
   "pygments_lexer": "ipython3",
   "version": "3.11.0"
  },
  "orig_nbformat": 4,
  "vscode": {
   "interpreter": {
    "hash": "07fa51723cfdfdcfd96f4d831e9a58393b5ea734b6a2ccc6da0d746f7dd84b96"
   }
  }
 },
 "nbformat": 4,
 "nbformat_minor": 2
}
