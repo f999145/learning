{
 "cells": [
  {
   "attachments": {},
   "cell_type": "markdown",
   "metadata": {},
   "source": [
    "### Replace audio\n",
    "\n",
    "![](pictures/DYx0E.png)\n",
    "\n",
    "```\n",
    "ffmpeg -i video.mp4 -i audio.wav -map 0:v -map 1:a -c:v copy -shortest output.mp4\n",
    "```\n",
    "\n",
    "* Опция `-map` позволяет вам вручную выбирать потоки / треки. Смотрите [FFmpeg Wiki: Map](https://trac.ffmpeg.org/wiki/Map) для получения дополнительной информации.\n",
    "* В этом примере используется `-c:v copy` для потокового копирования (мультипликации) видео. Перекодирование видео не происходит. Качество сохраняется, а процесс происходит быстро.\n",
    "    * Если ваш входной аудиоформат совместим с выходным форматом, измените `-c:v copy` на `-c copy` для потокового копирования как видео, так и аудио.\n",
    "    * Если вы хотите перекодировать видео и аудио, то удалите `-c:v copy` / `-c copy`.\n",
    "* Опция `-shortest` сделает вывод такой же продолжительности, как и самый короткий ввод.\n"
   ]
  },
  {
   "attachments": {},
   "cell_type": "markdown",
   "metadata": {},
   "source": [
    "### Add audio\n",
    "\n",
    "![](pictures/eyCVy.png)\n",
    "\n",
    "```\n",
    "ffmpeg -i video.mkv -i audio.mp3 -map 0 -map 1:a -c:v copy -shortest output.mkv\n",
    "```"
   ]
  },
  {
   "attachments": {},
   "cell_type": "markdown",
   "metadata": {},
   "source": [
    "### Mixing/combining two audio inputs into one\n",
    "\n",
    "![](pictures/2P6Ls.png)\n",
    "\n",
    "\n",
    "Используйте видео из video.mkv. Микшируйте аудио из video.mkv и audio.m4a с помощью фильтра [amerge filter](http://ffmpeg.org/ffmpeg-filters.html#amerge):\n",
    "\n",
    "```\n",
    "ffmpeg -i video.mkv -i audio.m4a -filter_complex \"[0:a][1:a]amerge=inputs=2[a]\" -map 0:v -map \"[a]\" -c:v copy -ac 2 -shortest output.mkv\n",
    "```\n",
    "\n",
    "Больше информации [FFmpeg Wiki: Audio Channels](https://trac.ffmpeg.org/wiki/AudioChannelManipulation)"
   ]
  },
  {
   "attachments": {},
   "cell_type": "markdown",
   "metadata": {},
   "source": [
    "### Generate silent audio\n",
    "\n",
    "```\n",
    "ffmpeg -i video.mp4 -f lavfi -i anullsrc=channel_layout=stereo:sample_rate=44100 \\\n",
    "-c:v copy -shortest output.mp4\n",
    "```\n",
    "\n",
    "Вы можете использовать [фильтр anullsrc](https://ffmpeg.org/ffmpeg-filters.html#anullsrc) для создания бесшумного аудиопотока. Фильтр позволяет вам выбрать желаемую компоновку канала (моно, стерео, 5.1 и т.д.) и частоту дискретизации."
   ]
  },
  {
   "attachments": {},
   "cell_type": "markdown",
   "metadata": {},
   "source": [
    "### Для объединения двух аудио файлов с помощью ffmpeg, можно использовать команду \"concat\".\n",
    "\n",
    "Сначала нужно создать текстовый файл, в котором будут перечислены пути к файлам, которые нужно объединить. Например, создайте файл \"list.txt\" и добавьте в него следующее содержимое:\n",
    "```\n",
    "file '/path/to/file1.mp3'\n",
    "file '/path/to/file2.mp3'\n",
    "```\n",
    "Затем запустите команду ffmpeg, указав путь к созданному файлу \"list.txt\":\n",
    "Copy code\n",
    "```powershell\n",
    "ffmpeg -f concat -safe 0 -i list.txt -c copy output.mp3\n",
    "```\n",
    "Где:\n",
    "\n",
    "* \"-f concat\" указывает, что мы используем функцию объединения файлов;\n",
    "* \"-safe 0\" отключает проверку безопасности, чтобы ffmpeg мог использовать файлы, находящиеся вне текущего каталога;\n",
    "* \"-i list.txt\" указывает путь к файлу, содержащему список файлов для объединения;\n",
    "* \"-c copy\" указывает ffmpeg скопировать аудио потоки без изменений;\n",
    "* \"output.mp3\" - это имя выходного файла.\n",
    "\n",
    "После выполнения этой команды, вы получите один файл \"output.mp3\", который будет содержать объединенные аудио файлы."
   ]
  },
  {
   "attachments": {},
   "cell_type": "markdown",
   "metadata": {},
   "source": [
    "---\n",
    "---\n",
    "---"
   ]
  },
  {
   "cell_type": "code",
   "execution_count": 1,
   "metadata": {},
   "outputs": [],
   "source": [
    "import os\n",
    "from pathlib import Path\n",
    "import subprocess\n",
    "from textwrap import shorten"
   ]
  },
  {
   "cell_type": "code",
   "execution_count": 4,
   "metadata": {},
   "outputs": [
    {
     "name": "stdout",
     "output_type": "stream",
     "text": [
      "00 $RECYCLE.BIN\n",
      "01 ABUS Я разочарован [mXLBzDmnpyc].webm\n",
      "02 fd9a8a8939a049478a9faeb84f5e8f2f.mp3\n",
      "03 VFX Artists React to Avatar 2 CGi (ft. Weta FX) [c4Gd0bR2kb4].webm\n",
      "04 Двойной рассказ о Splinter Cell： Double Agent [Разбор Полётов] [FB5Dhj9BleM].webm\n",
      "05 Этому миру есть альтернативы ⧸⧸ Комолов & Бузгалин. Диалог [VN4MEVIctbs].webm\n",
      "--------------------------------------------------------------------------------\n",
      "\n",
      "video file:\n",
      "\tVFX Artists React to Avatar 2 CGi (ft. Weta FX) [c4Gd0bR2kb4].webm\n",
      "\n",
      "audio file:\n",
      "\tfd9a8a8939a049478a9faeb84f5e8f2f.mp3\n",
      "--------------------------------------------------------------------------------\n",
      "\n",
      "out file: \n",
      "\ta:\\VFX_Artists_React_to_Avatar_2_CGi_ft_out.webm\n"
     ]
    }
   ],
   "source": [
    "path_to_folder = Path('a:/')\n",
    "file_list = list(path_to_folder.iterdir())\n",
    "for index, item in enumerate(file_list):\n",
    "    print(f'{index:02} {item.name}')\n",
    "\n",
    "video = file_list[3]\n",
    "audio = file_list[2]\n",
    "print('-'*80)\n",
    "print(f'\\nvideo file:\\n\\t{video.name}')\n",
    "print(f'\\naudio file:\\n\\t{audio.name}')\n",
    "\n",
    "name = video.name.replace(video.suffix, '')\n",
    "symbols = ' abcdefghijklmnopqrstuvwxyzабвгдеёжзийклмнопрстуфхцчшщъыьэюя0123456789'\n",
    "name = ''.join(filter(lambda x: x if x.lower() in symbols else '', name))\n",
    "\n",
    "out_name = shorten(name, 40, placeholder='').replace(' ', '_') + '_out' + video.suffix\n",
    "out_file = path_to_folder.joinpath(out_name)\n",
    "print('-'*80)\n",
    "print(f'\\nout file: \\n\\t{out_file}')"
   ]
  },
  {
   "cell_type": "code",
   "execution_count": 5,
   "metadata": {},
   "outputs": [
    {
     "data": {
      "text/plain": [
       "CompletedProcess(args=['ffmpeg', '-y', '-i', WindowsPath('a:/VFX Artists React to Avatar 2 CGi (ft. Weta FX) [c4Gd0bR2kb4].webm'), '-i', WindowsPath('a:/fd9a8a8939a049478a9faeb84f5e8f2f.mp3'), '-map', '0', '-map', '1:a', '-c:v', 'copy', '-c:a:0', 'copy', '-shortest', WindowsPath('a:/VFX_Artists_React_to_Avatar_2_CGi_ft_out.webm')], returncode=0)"
      ]
     },
     "execution_count": 5,
     "metadata": {},
     "output_type": "execute_result"
    }
   ],
   "source": [
    "# С помощью ffmpeg заменяем/добавляем аудио дорожку\n",
    "\n",
    "args = [\n",
    "    'ffmpeg', '-y',\n",
    "    '-i', video,\n",
    "    '-i', audio,\n",
    "    '-map', '0',\n",
    "    '-map', '1:a',\n",
    "    '-c:v', 'copy',\n",
    "    '-c:a:0', 'copy',\n",
    "    # '-c:a:1', 'aac',\n",
    "    # '-b:a:1', '320k',\n",
    "    '-shortest',\n",
    "    out_file\n",
    "]\n",
    "subprocess.run(args, shell=True, check=True)\n",
    "# print(' '.join(map(lambda x: f'\"{str(x)}\"' if type(x) is not str else x, args)))"
   ]
  },
  {
   "attachments": {},
   "cell_type": "markdown",
   "metadata": {},
   "source": [
    "---\n",
    "---"
   ]
  }
 ],
 "metadata": {
  "kernelspec": {
   "display_name": "Python 3",
   "language": "python",
   "name": "python3"
  },
  "language_info": {
   "codemirror_mode": {
    "name": "ipython",
    "version": 3
   },
   "file_extension": ".py",
   "mimetype": "text/x-python",
   "name": "python",
   "nbconvert_exporter": "python",
   "pygments_lexer": "ipython3",
   "version": "3.11.3"
  },
  "orig_nbformat": 4
 },
 "nbformat": 4,
 "nbformat_minor": 2
}
