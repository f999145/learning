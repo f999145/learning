{
 "cells": [
  {
   "attachments": {},
   "cell_type": "markdown",
   "metadata": {},
   "source": [
    "### Replace audio\n",
    "\n",
    "![](pictures/DYx0E.png)\n",
    "\n",
    "```\n",
    "ffmpeg -i video.mp4 -i audio.wav -map 0:v -map 1:a -c:v copy -shortest output.mp4\n",
    "```\n",
    "\n",
    "* Опция `-map` позволяет вам вручную выбирать потоки / треки. Смотрите [FFmpeg Wiki: Map](https://trac.ffmpeg.org/wiki/Map) для получения дополнительной информации.\n",
    "* В этом примере используется `-c:v copy` для потокового копирования (мультипликации) видео. Перекодирование видео не происходит. Качество сохраняется, а процесс происходит быстро.\n",
    "    * Если ваш входной аудиоформат совместим с выходным форматом, измените `-c:v copy` на `-c copy` для потокового копирования как видео, так и аудио.\n",
    "    * Если вы хотите перекодировать видео и аудио, то удалите `-c:v copy` / `-c copy`.\n",
    "* Опция `-shortest` сделает вывод такой же продолжительности, как и самый короткий ввод.\n"
   ]
  },
  {
   "attachments": {},
   "cell_type": "markdown",
   "metadata": {},
   "source": [
    "### Add audio\n",
    "\n",
    "![](pictures/eyCVy.png)\n",
    "\n",
    "```\n",
    "ffmpeg -i video.mkv -i audio.mp3 -map 0 -map 1:a -c:v copy -shortest output.mkv\n",
    "```"
   ]
  },
  {
   "attachments": {},
   "cell_type": "markdown",
   "metadata": {},
   "source": [
    "### Mixing/combining two audio inputs into one\n",
    "\n",
    "![](pictures/2P6Ls.png)\n",
    "\n",
    "\n",
    "Используйте видео из video.mkv. Микшируйте аудио из video.mkv и audio.m4a с помощью фильтра [amerge filter](http://ffmpeg.org/ffmpeg-filters.html#amerge):\n",
    "\n",
    "```\n",
    "ffmpeg -i video.mkv -i audio.m4a -filter_complex \"[0:a][1:a]amerge=inputs=2[a]\" -map 0:v -map \"[a]\" -c:v copy -ac 2 -shortest output.mkv\n",
    "```\n",
    "\n",
    "Больше информации [FFmpeg Wiki: Audio Channels](https://trac.ffmpeg.org/wiki/AudioChannelManipulation)"
   ]
  },
  {
   "attachments": {},
   "cell_type": "markdown",
   "metadata": {},
   "source": [
    "### Generate silent audio\n",
    "\n",
    "```\n",
    "ffmpeg -i video.mp4 -f lavfi -i anullsrc=channel_layout=stereo:sample_rate=44100 \\\n",
    "-c:v copy -shortest output.mp4\n",
    "```\n",
    "\n",
    "Вы можете использовать [фильтр anullsrc](https://ffmpeg.org/ffmpeg-filters.html#anullsrc) для создания бесшумного аудиопотока. Фильтр позволяет вам выбрать желаемую компоновку канала (моно, стерео, 5.1 и т.д.) и частоту дискретизации."
   ]
  },
  {
   "attachments": {},
   "cell_type": "markdown",
   "metadata": {},
   "source": [
    "---\n",
    "---\n",
    "---"
   ]
  },
  {
   "cell_type": "code",
   "execution_count": 18,
   "metadata": {},
   "outputs": [],
   "source": [
    "import os\n",
    "from pathlib import Path\n",
    "import subprocess\n",
    "from pprint import pprint\n",
    "from textwrap import shorten"
   ]
  },
  {
   "cell_type": "code",
   "execution_count": null,
   "metadata": {},
   "outputs": [],
   "source": [
    "# data_folder = Path('a:/')\n",
    "# folder_name = os.listdir(data_folder)[-1]\n",
    "# data_folder = os.path.join(data_folder, folder_name)\n",
    "# # os.listdir(data_folder)\n",
    "\n",
    "# paths_list = list()\n",
    "# files_list = list()\n",
    "# for p,_,f in os.walk(data_folder):\n",
    "#     if f:\n",
    "#         paths_list.append(p)\n",
    "#         files_list.append(f)\n",
    "\n",
    "# def path_concat(str_path: str, name_list: list[str]) -> list[str]:\n",
    "#     output_list = list()\n",
    "#     for name in name_list:\n",
    "#         tmp = os.path.join(str_path, name)\n",
    "#         output_list.append(tmp)\n",
    "#     return output_list\n",
    "\n",
    "# videos_list = path_concat(paths_list[0], files_list[0])\n",
    "# audios_list = path_concat(paths_list[1], files_list[1])\n",
    "\n",
    "# print('Количество видео файлов: ', len(videos_list))\n",
    "# print('Количество аудил файлов: ', len(audios_list))"
   ]
  },
  {
   "cell_type": "code",
   "execution_count": 44,
   "metadata": {},
   "outputs": [],
   "source": [
    "# С помощью ffmpeg заменяем/добавляем аудио дорожку\n",
    "path = Path(videos_list[0]) \n",
    "out_rus = os.path.join(path.parent.absolute(), 'out_rus')\n",
    "os.makedirs(out_rus , exist_ok=True)\n",
    "\n",
    "for video, audio in zip(videos_list, audios_list):\n",
    "    out_file = os.path.join(out_rus, os.path.basename(video))\n",
    "    \n",
    "    args = [\n",
    "        'ffmpeg',\n",
    "        '-i', video,\n",
    "        '-i', audio,\n",
    "        '-map', '0:v',\n",
    "        '-map', '1:a',\n",
    "        '-c:v', 'copy',\n",
    "        '-shortest',\n",
    "        out_file\n",
    "    ]\n",
    "    subprocess.run(args, shell=True, check=True)"
   ]
  },
  {
   "attachments": {},
   "cell_type": "markdown",
   "metadata": {},
   "source": [
    "---\n",
    "---"
   ]
  },
  {
   "cell_type": "code",
   "execution_count": 11,
   "metadata": {},
   "outputs": [
    {
     "name": "stdout",
     "output_type": "stream",
     "text": [
      "['56f712039fdd4a9c8be5709acf13b289.mp3',\n",
      " 'LLaMa INSTALL WEIGTHS VRAM REDUCTION.webm',\n",
      " 'LLaMa INSTALL WEIGTHS VRAM REDUCTION_out.webm',\n",
      " 'НЕКРОМАНТ И ЕГО ВОЙСКО! Diablo IV.f308.webm.part',\n",
      " 'НЕКРОМАНТ И ЕГО ВОЙСКО! Diablo IV.webm']\n"
     ]
    }
   ],
   "source": [
    "folder = os.path.join('a:/', 'youtube')\n",
    "files_list = os.listdir(folder)\n",
    "pprint(files_list)\n",
    "video = os.path.join(folder, files_list[1])\n",
    "audio = os.path.join(folder, files_list[0])\n",
    "name, ext = os.path.splitext(os.path.basename(video))\n",
    "out_file = os.path.join(folder, f'{name}_out{ext}')"
   ]
  },
  {
   "cell_type": "code",
   "execution_count": 26,
   "metadata": {},
   "outputs": [
    {
     "name": "stdout",
     "output_type": "stream",
     "text": [
      "[WindowsPath('a:/$RECYCLE.BIN'),\n",
      " WindowsPath('a:/af198c392c504a18a1ed2342ce5603f4.mp3'),\n",
      " WindowsPath('a:/Police officer fired for pepper-spraying Black and Latino lieutenant during traffic stop [fj66LBel_WQ].webm')]\n",
      "Police officer fired for pepper-spraying Black and Latino lieutenant during traffic stop [fj66LBel_WQ].webm\n",
      "af198c392c504a18a1ed2342ce5603f4.mp3\n",
      "a:\\Police_officer_fired_for_out.webm\n"
     ]
    }
   ],
   "source": [
    "path_to_folder = Path('a:/')\n",
    "file_list = list(path_to_folder.iterdir())\n",
    "pprint(file_list)\n",
    "video = file_list[2]\n",
    "audio = file_list[1]\n",
    "print(video.name)\n",
    "print(audio.name)\n",
    "out_name = shorten(video.name.replace(video.suffix, ''), 30, placeholder='_out').replace(' ', '_') + video.suffix\n",
    "out_file = path_to_folder.joinpath(out_name)\n",
    "# print(out_file)\n",
    "# print(video.name.replace(video.suffix, ''))"
   ]
  },
  {
   "cell_type": "code",
   "execution_count": 27,
   "metadata": {},
   "outputs": [
    {
     "data": {
      "text/plain": [
       "CompletedProcess(args=['ffmpeg', '-y', '-i', WindowsPath('a:/Police officer fired for pepper-spraying Black and Latino lieutenant during traffic stop [fj66LBel_WQ].webm'), '-i', WindowsPath('a:/af198c392c504a18a1ed2342ce5603f4.mp3'), '-map', '0', '-map', '1:a', '-c:v', 'copy', '-shortest', WindowsPath('a:/Police_officer_fired_for_out.webm')], returncode=0)"
      ]
     },
     "execution_count": 27,
     "metadata": {},
     "output_type": "execute_result"
    }
   ],
   "source": [
    "# С помощью ffmpeg заменяем/добавляем аудио дорожку\n",
    "\n",
    "args = [\n",
    "    'ffmpeg', '-y',\n",
    "    '-i', video,\n",
    "    '-i', audio,\n",
    "    '-map', '0',\n",
    "    '-map', '1:a',\n",
    "    '-c:v', 'copy',\n",
    "    '-shortest',\n",
    "    out_file\n",
    "]\n",
    "subprocess.run(args, shell=True, check=True)"
   ]
  }
 ],
 "metadata": {
  "kernelspec": {
   "display_name": "Python 3",
   "language": "python",
   "name": "python3"
  },
  "language_info": {
   "codemirror_mode": {
    "name": "ipython",
    "version": 3
   },
   "file_extension": ".py",
   "mimetype": "text/x-python",
   "name": "python",
   "nbconvert_exporter": "python",
   "pygments_lexer": "ipython3",
   "version": "3.11.3"
  },
  "orig_nbformat": 4
 },
 "nbformat": 4,
 "nbformat_minor": 2
}
