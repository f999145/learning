{
 "cells": [
  {
   "attachments": {},
   "cell_type": "markdown",
   "metadata": {},
   "source": [
    "Сокращение с использованием длительности \n",
    "> ffmpeg -i input.mp4 -ss 00:05:20 -t 00:10:00 -c:v copy -c:a copy output1.mp4\n",
    "Приведенная выше команда будет принимать входное видео input.mp4, и вырежет из него 10 минут , начиная с 00:05:20\n",
    "\n",
    "Вырезать, используя определенное время \n",
    "> ffmpeg -i input.mp4 -ss 00:05:10 -to 00:15:30 -c:v copy -c:a copy output2.mp4\n",
    "\n",
    "Вырезать конец видео\n",
    "> ffmpeg -sseof -600 -i input.mp4 -c copy output5.mp4\n",
    "> ffmpeg -sseof -00:10:00 -i input.mp4 -c copy output6.mp4\n",
    "\n",
    "Вырезание с перекодированием\n",
    "> ffmpeg -ss 00:05:20 -accurate_seek -i input.mp4 -t 00:10:00 -c:v libx264 -c:a aac output7.mp4\n",
    "> \n",
    "В приведенной выше команде мы перекодируем аудио и видео при вырезании видео, а также используем `-accurate_seek` установите флажок, который приведет к более точной длине выходного видео. "
   ]
  },
  {
   "cell_type": "code",
   "execution_count": 7,
   "metadata": {},
   "outputs": [],
   "source": [
    "from pathlib import Path\n",
    "import subprocess\n",
    "from textwrap import shorten\n",
    "from pprint import pprint"
   ]
  },
  {
   "cell_type": "code",
   "execution_count": 75,
   "metadata": {},
   "outputs": [
    {
     "name": "stdout",
     "output_type": "stream",
     "text": [
      "Список файлов:\n",
      "[WindowsPath('a:/$RECYCLE.BIN'),\n",
      " WindowsPath('a:/Moscow Data Science Major. Зал 2 ｜ Технострим [pjhV3r6RbDo].webm'),\n",
      " WindowsPath('a:/Moscow_Data_Science_Major._out.webm'),\n",
      " WindowsPath('a:/Moscow_Data_Science_Major_out.webm'),\n",
      " WindowsPath('a:/_out — копия.webm'),\n",
      " WindowsPath('a:/_out.webm')]\n",
      "\n",
      "select name: \tMoscow_Data_Science_Major._out.webm\n",
      "out file: \ta:\\Moscow_Data_Science_Major_out.webm\n"
     ]
    }
   ],
   "source": [
    "path_to_folder = Path('a:/')\n",
    "file_list = list(path_to_folder.iterdir())\n",
    "print('Список файлов:')\n",
    "pprint(file_list)\n",
    "print()\n",
    "video = file_list[2]\n",
    "print(f'select name: \\t{video.name}')\n",
    "out_name = shorten(video.name.replace(f'{video.suffix}', '').replace('.', ''), 30, placeholder='_out').replace(' ', '_') + video.suffix\n",
    "out_file = path_to_folder.joinpath(out_name)\n",
    "print(f'out file: \\t{out_file}')"
   ]
  },
  {
   "cell_type": "code",
   "execution_count": 74,
   "metadata": {},
   "outputs": [
    {
     "data": {
      "text/plain": [
       "CompletedProcess(args=['ffmpeg', '-y', '-ss', '00:00:00', '-to', '00:25:23', '-i', WindowsPath('a:/Moscow_Data_Science_Major._out.webm'), '-c', 'copy', '-shortest', WindowsPath('a:/Moscow_Data_Science_Major_out.webm')], returncode=0)"
      ]
     },
     "execution_count": 74,
     "metadata": {},
     "output_type": "execute_result"
    }
   ],
   "source": [
    "# С помощью ffmpeg заменяем/добавляем аудио дорожку\n",
    "\n",
    "args = [\n",
    "    'ffmpeg', '-y',\n",
    "    '-ss', '00:00:00',  '-to', '00:25:23', # вырезать фрагмент видео\n",
    "    '-i', video,\n",
    "    '-c', 'copy',\n",
    "    '-shortest',\n",
    "    # '-f', 'segment', # делить видео на фрагменты\n",
    "    # '-segment_time', '00:02:00', \n",
    "    # '-reset_timestamps', '1',\n",
    "    out_file\n",
    "    \n",
    "]\n",
    "subprocess.run(args, shell=True, check=True)"
   ]
  }
 ],
 "metadata": {
  "kernelspec": {
   "display_name": "Python 3",
   "language": "python",
   "name": "python3"
  },
  "language_info": {
   "codemirror_mode": {
    "name": "ipython",
    "version": 3
   },
   "file_extension": ".py",
   "mimetype": "text/x-python",
   "name": "python",
   "nbconvert_exporter": "python",
   "pygments_lexer": "ipython3",
   "version": "3.11.3"
  },
  "orig_nbformat": 4
 },
 "nbformat": 4,
 "nbformat_minor": 2
}
