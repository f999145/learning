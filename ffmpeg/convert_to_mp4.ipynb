{
 "cells": [
  {
   "cell_type": "code",
   "execution_count": 2,
   "metadata": {},
   "outputs": [],
   "source": [
    "from pathlib import Path\n",
    "import subprocess\n",
    "from textwrap import shorten"
   ]
  },
  {
   "cell_type": "code",
   "execution_count": 5,
   "metadata": {},
   "outputs": [
    {
     "name": "stdout",
     "output_type": "stream",
     "text": [
      "00 $RECYCLE.BIN\n",
      "01 (Исчерпывающий) обзор Redfall [JigZwLzqvEg].webm\n",
      "02 Guy.Ritchies.The.Covenant.2023.WEB-DL-HEVC.2160p.SDR.seleZen.mkv\n",
      "03 Guy.Ritchies.The.Covenant.2023.WEB-_out.mp4\n",
      "04 System Volume Information\n",
      "05 Working on a Super Rare TI-99⧸4 [EzOabR-EAZk].webm\n",
      "--------------------------------------------------------------------------------\n",
      "\n",
      "video file:\n",
      "\tGuy.Ritchies.The.Covenant.2023.WEB-DL-HEVC.2160p.SDR.seleZen.mkv\n",
      "\n",
      "audio file:\n",
      "\t(Исчерпывающий) обзор Redfall [JigZwLzqvEg].webm\n",
      "--------------------------------------------------------------------------------\n",
      "\n",
      "out file: \n",
      "\ta:\\Guy.Ritchies.The.Covenant.2023.WEB-_out.mp4\n"
     ]
    }
   ],
   "source": [
    "path_to_folder = Path('a:/')\n",
    "file_list = list(path_to_folder.iterdir())\n",
    "for index, item in enumerate(file_list):\n",
    "    print(f'{index:02} {item.name}')\n",
    "\n",
    "video = file_list[2]\n",
    "audio = file_list[1]\n",
    "print('-'*80)\n",
    "print(f'\\nvideo file:\\n\\t{video.name}')\n",
    "print(f'\\naudio file:\\n\\t{audio.name}')\n",
    "\n",
    "name = video.name.replace(video.suffix, '')\n",
    "symbols = '<>=#@`~^&{}[]:,\"\\'/\\|?*｜'\n",
    "for s in symbols:\n",
    "    name = name.replace(s,'')\n",
    "\n",
    "out_name = shorten(name, 40, placeholder='_out').replace(' ', '_') + '.mp4'\n",
    "out_file = path_to_folder.joinpath(out_name)\n",
    "print('-'*80)\n",
    "print(f'\\nout file: \\n\\t{out_file}')"
   ]
  },
  {
   "cell_type": "code",
   "execution_count": 7,
   "metadata": {},
   "outputs": [
    {
     "data": {
      "text/plain": [
       "CompletedProcess(args=['ffmpeg', '-y', '-i', WindowsPath('a:/Guy.Ritchies.The.Covenant.2023.WEB-DL-HEVC.2160p.SDR.seleZen.mkv'), '-map', '0:v:0', '-map', '0:a:0', '-map', '0:a:1', '-vf', 'scale=1920:-1', '-c:v', 'h264_nvenc', '-preset', 'fast', '-profile:v', 'baseline', '-level', '4', '-cbr', 'true', '-b:v', '4M', '-c:a', 'ac3', '-af', 'pan=stereo|FL < 0.7*FC + 0.3*FLC + 0.3*FL + 0.3*BL + 0.3*SL + 0.5*LFE | FR < 0.7*FC + 0.3*FRC + 0.3*FR + 0.3*BR + 0.3*SR + 0.5*LFE', WindowsPath('a:/Guy.Ritchies.The.Covenant.2023.WEB-_out.mp4')], returncode=0)"
      ]
     },
     "execution_count": 7,
     "metadata": {},
     "output_type": "execute_result"
    }
   ],
   "source": [
    "args = [\n",
    "    'ffmpeg', '-y',\n",
    "    '-i', video,\n",
    "    \n",
    "    '-map', '0:v:0',\n",
    "    '-map', '0:a:0',\n",
    "    '-map', '0:a:1',\n",
    "    \n",
    "    '-vf', 'scale=1920:-1',\n",
    "    '-c:v', 'h264_nvenc',\n",
    "    '-preset', 'fast',\n",
    "    # '-profile:v', 'main',\n",
    "    '-profile:v', 'main',\n",
    "    '-level', '4',\n",
    "    '-cbr', 'true',\n",
    "    '-b:v', '8M',\n",
    "    \n",
    "    '-c:a', 'ac3',\n",
    "    '-af', \"pan=stereo|FL < 0.7*FC + 0.3*FLC + 0.3*FL + 0.3*BL + 0.3*SL + 0.5*LFE | FR < 0.7*FC + 0.3*FRC + 0.3*FR + 0.3*BR + 0.3*SR + 0.5*LFE\",\n",
    "    \n",
    "    out_file\n",
    "]\n",
    "subprocess.run(args, shell=True, check=True)\n",
    "# print(' '.join(map(str, args)))"
   ]
  }
 ],
 "metadata": {
  "kernelspec": {
   "display_name": "Python 3",
   "language": "python",
   "name": "python3"
  },
  "language_info": {
   "codemirror_mode": {
    "name": "ipython",
    "version": 3
   },
   "file_extension": ".py",
   "mimetype": "text/x-python",
   "name": "python",
   "nbconvert_exporter": "python",
   "pygments_lexer": "ipython3",
   "version": "3.11.3"
  },
  "orig_nbformat": 4
 },
 "nbformat": 4,
 "nbformat_minor": 2
}
