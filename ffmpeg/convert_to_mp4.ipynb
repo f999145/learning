{
 "cells": [
  {
   "cell_type": "code",
   "execution_count": 3,
   "metadata": {},
   "outputs": [],
   "source": [
    "from pathlib import Path\n",
    "import subprocess\n",
    "from textwrap import shorten"
   ]
  },
  {
   "cell_type": "code",
   "execution_count": 22,
   "metadata": {},
   "outputs": [
    {
     "name": "stdout",
     "output_type": "stream",
     "text": [
      "00 $RECYCLE.BIN\n",
      "01 AMD или Intel в ноутбуке？ Тест НЕ самых новых процессоров. [1patZLIyx8Q].webm\n",
      "02 cycle.bat\n",
      "03 input_folder\n",
      "04 output_folder\n",
      "--------------------------------------------------------------------------------\n",
      "\n",
      "video file:\n",
      "\tAMD или Intel в ноутбуке？ Тест НЕ самых новых процессоров. [1patZLIyx8Q].webm\n",
      "--------------------------------------------------------------------------------\n",
      "\n",
      "out file: \n",
      "\ta:\\AMD_или_Intel_в_ноутбуке_Тест_НЕ_самых_out.mp4\n"
     ]
    }
   ],
   "source": [
    "path_to_folder = Path('a:\\\\')\n",
    "file_list = list(path_to_folder.iterdir())\n",
    "for index, item in enumerate(file_list):\n",
    "    print(f'{index:02} {item.name}')\n",
    "\n",
    "video = file_list[1]\n",
    "\n",
    "print('-'*80)\n",
    "print(f'\\nvideo file:\\n\\t{video.name}')\n",
    "\n",
    "name = video.name.replace(video.suffix, '')\n",
    "symbols = ' abcdefghijklmnopqrstuvwxyzабвгдеёжзийклмнопрстуфхцчшщъыьэюя0123456789'\n",
    "name = ''.join(filter(lambda x: x if x.lower() in symbols else '', name))\n",
    "\n",
    "out_name = shorten(name, 40, placeholder='').replace(' ', '_') + '_out' + '.mp4'\n",
    "out_file = path_to_folder.joinpath(out_name)\n",
    "print('-'*80)\n",
    "print(f'\\nout file: \\n\\t{out_file}')"
   ]
  },
  {
   "cell_type": "code",
   "execution_count": 25,
   "metadata": {},
   "outputs": [
    {
     "name": "stdout",
     "output_type": "stream",
     "text": [
      "ffmpeg -y -i \"a:\\AMD или Intel в ноутбуке？ Тест НЕ самых новых процессоров. [1patZLIyx8Q].webm\" -vf scale=1920:-1 -c:v h264_nvenc -preset fast -profile:v main -level 4 -cbr true -b:v 8M -c:a ac3 -af pan=stereo|FL < 0.7*FC + 0.3*FLC + 0.3*FL + 0.3*BL + 0.3*SL + 0.5*LFE | FR < 0.7*FC + 0.3*FRC + 0.3*FR + 0.3*BR + 0.3*SR + 0.5*LFE \"a:\\AMD_или_Intel_в_ноутбуке_Тест_НЕ_самых_out.mp4\"\n"
     ]
    }
   ],
   "source": [
    "args = [\n",
    "    'ffmpeg', '-y',\n",
    "    '-i', video,\n",
    "    \n",
    "    # '-map', '0:v:0',\n",
    "    # '-map', '0:a:0',\n",
    "    # '-map', '0:a:1',\n",
    "    \n",
    "    '-vf', 'scale=1920:-1',\n",
    "    '-c:v', 'h264_nvenc',\n",
    "    '-preset', 'fast',\n",
    "    '-profile:v', 'main',\n",
    "    '-level', '4.2',\n",
    "    '-cbr', 'true',\n",
    "    '-b:v', '8M',\n",
    "    \n",
    "    '-c:a', 'ac3',\n",
    "    '-af', \"pan=stereo|FL < 0.7*FC + 0.3*FLC + 0.3*FL + 0.3*BL + 0.3*SL + 0.5*LFE | FR < 0.7*FC + 0.3*FRC + 0.3*FR + 0.3*BR + 0.3*SR + 0.5*LFE\",\n",
    "    \n",
    "    out_file\n",
    "]\n",
    "subprocess.run(args, shell=True, check=True)\n",
    "# print(' '.join(map(lambda x: f'\"{str(x)}\"' if type(x) is not str else x, args)))"
   ]
  }
 ],
 "metadata": {
  "kernelspec": {
   "display_name": "Python 3",
   "language": "python",
   "name": "python3"
  },
  "language_info": {
   "codemirror_mode": {
    "name": "ipython",
    "version": 3
   },
   "file_extension": ".py",
   "mimetype": "text/x-python",
   "name": "python",
   "nbconvert_exporter": "python",
   "pygments_lexer": "ipython3",
   "version": "3.11.3"
  },
  "orig_nbformat": 4
 },
 "nbformat": 4,
 "nbformat_minor": 2
}
