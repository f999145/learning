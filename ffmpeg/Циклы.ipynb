{
 "cells": [
  {
   "attachments": {},
   "cell_type": "markdown",
   "metadata": {},
   "source": [
    "```\n",
    "@echo off\n",
    "setlocal enabledelayedexpansion\n",
    "\n",
    "set input_folder=C:\\input_folder\n",
    "set output_folder=C:\\output_folder\n",
    "\n",
    "for %%a in (\"%input_folder%\\*.mp4\") do (\n",
    "    set input_file=%%a\n",
    "    set output_file=!input_file:%input_folder%=%output_folder%!\n",
    "    ffmpeg -i \"!input_file!\" -c:v libx264 -preset medium -crf 23 -c:a aac -b:a 128k \"!output_file!\"\n",
    ")\n",
    "```\n",
    "\n",
    "В данном примере мы используем цикл `for` для перебора всех файлов с расширением `.mp4` в папке `input_folder`. Для каждого файла мы задаем переменную `input_file` равной имени файла, а переменную `output_file` равной имени файла, но с заменой пути к папке `input_folder`  на путь к папке `output_folder`.\n",
    "\n",
    "Затем мы вызываем команду `ffmpeg`, передавая ей параметры `-i` для указания входного файла, `-c:v` для выбора видео кодека, `-preset` для выбора настройки скорости кодирования, `-crf` для выбора качества видео, `-c:a` для выбора аудио кодека и `-b:a` для выбора битрейта аудио.\n",
    "\n",
    "Наконец, мы указываем имя выходного файла, используя переменную `output_file`.\n",
    "\n",
    "Обратите внимание, что мы используем `setlocal enabledelayedexpansion`, чтобы разрешить задание переменных внутри цикла `for` и использовать переменные с `!` вместо `%`. Это необходимо, чтобы переменные `input_file` и `output_file` обновлялись на каждой итерации цикла."
   ]
  }
 ],
 "metadata": {
  "language_info": {
   "name": "python"
  },
  "orig_nbformat": 4
 },
 "nbformat": 4,
 "nbformat_minor": 2
}
