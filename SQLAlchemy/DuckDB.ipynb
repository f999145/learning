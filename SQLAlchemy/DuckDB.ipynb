{
 "cells": [
  {
   "cell_type": "markdown",
   "metadata": {},
   "source": [
    "Вот примеры использования библиотеки DuckDB для записи, дозаписи, компрессии данных и чтения данных из DuckDB в DataFrame в Python:"
   ]
  },
  {
   "cell_type": "code",
   "execution_count": null,
   "metadata": {},
   "outputs": [],
   "source": [
    "import duckdb\n",
    "import pandas as pd\n",
    "\n",
    "# Подключение к базе данных DuckDB\n",
    "conn = duckdb.connect(database=':memory:', read_only=False)\n",
    "\n",
    "# Создание DataFrame для записи в DuckDB\n",
    "data = {'id': [1, 2, 3], 'name': ['Alice', 'Bob', 'Charlie']}\n",
    "df = pd.DataFrame(data)\n",
    "\n",
    "# Запись DataFrame в DuckDB\n",
    "conn.register('my_table', df)\n",
    "conn.execute(\"CREATE TABLE my_table AS SELECT * FROM my_table\")\n",
    "\n",
    "# Дозапись в таблицу DuckDB\n",
    "data2 = {'id': [4, 5], 'name': ['Dave', 'Eve']}\n",
    "df2 = pd.DataFrame(data2)\n",
    "conn.register('my_table2', df2)\n",
    "conn.execute(\"INSERT INTO my_table SELECT * FROM my_table2\")\n",
    "\n",
    "# Варианты компрессии данных\n",
    "conn.execute(\"CREATE TABLE my_compressed_table AS SELECT * FROM my_table WITH COMPRESSION\")\n",
    "\n",
    "# Чтение данных из DuckDB в DataFrame\n",
    "result = conn.execute(\"SELECT * FROM my_table\")\n",
    "df_result = result.fetchdf()\n",
    "print(df_result)\n"
   ]
  },
  {
   "cell_type": "markdown",
   "metadata": {},
   "source": [
    "Этот код демонстрирует создание подключения к базе данных DuckDB в памяти, запись DataFrame в таблицу DuckDB, дозапись в существующую таблицу, использование компрессии данных при создании таблицы, и чтение данных из DuckDB обратно в DataFrame."
   ]
  },
  {
   "cell_type": "markdown",
   "metadata": {},
   "source": [
    "Вот примеры использования библиотеки DuckDB для записи, дозаписи и чтения данных на диск в Python:"
   ]
  },
  {
   "cell_type": "code",
   "execution_count": null,
   "metadata": {},
   "outputs": [],
   "source": [
    "import duckdb\n",
    "import pandas as pd\n",
    "\n",
    "# Подключение к базе данных DuckDB\n",
    "conn = duckdb.connect(database='example_database.db', read_only=False)\n",
    "\n",
    "# Создание DataFrame для записи в DuckDB\n",
    "data = {'id': [1, 2, 3], 'name': ['Alice', 'Bob', 'Charlie']}\n",
    "df = pd.DataFrame(data)\n",
    "\n",
    "# Запись DataFrame в DuckDB на диск\n",
    "conn.register('my_table', df)\n",
    "conn.execute(\"CREATE TABLE my_table AS SELECT * FROM my_table\")\n",
    "\n",
    "# Дозапись в таблицу DuckDB на диск\n",
    "data2 = {'id': [4, 5], 'name': ['Dave', 'Eve']}\n",
    "df2 = pd.DataFrame(data2)\n",
    "conn.register('my_table2', df2)\n",
    "conn.execute(\"INSERT INTO my_table SELECT * FROM my_table2\")\n",
    "\n",
    "# Чтение данных из DuckDB на диске в DataFrame\n",
    "result = conn.execute(\"SELECT * FROM my_table\")\n",
    "df_result = result.fetchdf()\n",
    "print(df_result)\n",
    "\n",
    "# Закрытие соединения\n",
    "conn.close()\n"
   ]
  },
  {
   "cell_type": "markdown",
   "metadata": {},
   "source": [
    "Этот код демонстрирует создание подключения к базе данных DuckDB на диске, запись DataFrame в таблицу DuckDB на диск, дозапись в существующую таблицу на диск и чтение данных из DuckDB на диске обратно в DataFrame."
   ]
  },
  {
   "cell_type": "markdown",
   "metadata": {},
   "source": [
    " вот пример использования библиотеки DuckDB для записи, дозаписи и чтения данных на диск в Python:"
   ]
  },
  {
   "cell_type": "code",
   "execution_count": null,
   "metadata": {},
   "outputs": [],
   "source": [
    "import duckdb\n",
    "import pandas as pd\n",
    "\n",
    "# Подключение к базе данных DuckDB на диске\n",
    "conn = duckdb.connect(database='example_database.db', read_only=False)\n",
    "\n",
    "# Создание DataFrame для записи в DuckDB\n",
    "data = {'id': [1, 2, 3], 'name': ['Alice', 'Bob', 'Charlie']}\n",
    "df = pd.DataFrame(data)\n",
    "\n",
    "# Запись DataFrame в DuckDB на диск\n",
    "conn.register('my_table', df)\n",
    "conn.execute(\"CREATE TABLE my_table AS SELECT * FROM my_table\")\n",
    "\n",
    "# Создание второго DataFrame для дозаписи\n",
    "data2 = {'id': [4, 5], 'name': ['Dave', 'Eve']}\n",
    "df2 = pd.DataFrame(data2)\n",
    "\n",
    "# Дозапись в таблицу DuckDB на диск\n",
    "conn.register('my_table2', df2)\n",
    "conn.execute(\"INSERT INTO my_table SELECT * FROM my_table2\")\n",
    "\n",
    "# Чтение данных из DuckDB на диске в DataFrame\n",
    "result = conn.execute(\"SELECT * FROM my_table\")\n",
    "df_result = result.fetchdf()\n",
    "print(df_result)\n",
    "\n",
    "# Закрытие соединения\n",
    "conn.close()\n"
   ]
  },
  {
   "cell_type": "markdown",
   "metadata": {},
   "source": [
    "Этот пример демонстрирует создание подключения к базе данных DuckDB на диске, запись DataFrame в таблицу DuckDB на диск, дозапись в существующую таблицу на диск и чтение данных из DuckDB на диске обратно в DataFrame."
   ]
  },
  {
   "cell_type": "markdown",
   "metadata": {},
   "source": [
    "Чтобы подключиться к файлу DuckDB на диске с помощью SQLAlchemy, вы можете использовать SQLAlchemy-DuckDB диалект. Вот пример того, как это можно сделать:"
   ]
  },
  {
   "cell_type": "code",
   "execution_count": null,
   "metadata": {},
   "outputs": [],
   "source": [
    "from sqlalchemy import create_engine, MetaData, Table, Column, Integer, String\n",
    "\n",
    "# Создание движка SQLAlchemy для подключения к DuckDB на диске\n",
    "engine = create_engine('duckdb:///example_database.db')\n",
    "\n",
    "# Создание метаданных и объекта таблицы для выполнения операций\n",
    "metadata = MetaData()\n",
    "\n",
    "# Определение структуры таблицы\n",
    "my_table = Table('my_table', metadata,\n",
    "                 Column('id', Integer, primary_key=True),\n",
    "                 Column('name', String)\n",
    "                )\n",
    "\n",
    "# Отображение структуры таблицы на базу данных\n",
    "metadata.create_all(engine)\n",
    "\n",
    "# Вставка данных в таблицу\n",
    "with engine.connect() as conn:\n",
    "    conn.execute(my_table.insert(), [{'id': 1, 'name': 'Alice'}, {'id': 2, 'name': 'Bob'}, {'id': 3, 'name': 'Charlie'}])\n",
    "\n",
    "# Чтение данных из таблицы\n",
    "with engine.connect() as conn:\n",
    "    result = conn.execute(my_table.select())\n",
    "    for row in result:\n",
    "        print(row)\n"
   ]
  },
  {
   "cell_type": "markdown",
   "metadata": {},
   "source": [
    "Этот код создает движок SQLAlchemy для подключения к базе данных DuckDB на диске с помощью URI duckdb:///example_database.db. Затем он создает метаданные и определяет структуру таблицы. Данные вставляются в таблицу, а затем они считываются и выводятся на экран.\n",
    "\n",
    "Убедитесь, что у вас установлен пакет SQLAlchemy-DuckDB, который предоставляет диалект DuckDB для SQLAlchemy."
   ]
  }
 ],
 "metadata": {
  "kernelspec": {
   "display_name": "Python 3",
   "language": "python",
   "name": "python3"
  },
  "language_info": {
   "name": "python",
   "version": "3.12.2"
  }
 },
 "nbformat": 4,
 "nbformat_minor": 2
}
