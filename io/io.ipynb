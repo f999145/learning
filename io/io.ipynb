{
 "cells": [
  {
   "cell_type": "code",
   "execution_count": null,
   "metadata": {},
   "outputs": [],
   "source": []
  }
 ],
 "metadata": {
  "kernelspec": {
   "display_name": "Python 3.11.0 64-bit",
   "language": "python",
   "name": "python3"
  },
  "language_info": {
   "name": "python",
   "version": "3.11.0"
  },
  "orig_nbformat": 4,
  "vscode": {
   "interpreter": {
    "hash": "e1ee4f4199f91f8e131ea521b676de58953268c60e996556b57947760ffdf2e6"
   }
  }
 },
 "nbformat": 4,
 "nbformat_minor": 2
}
