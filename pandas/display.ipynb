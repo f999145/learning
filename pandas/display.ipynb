{
 "cells": [
  {
   "cell_type": "markdown",
   "metadata": {},
   "source": [
    "```python\n",
    "with pd.option_context(\"display.max_columns\", 500, \"display.max_rows\", 500, \"display.max_colwidth\", 1000):\n",
    "    display(new_df[new_df['type'].isnull()].shape)\n",
    "```"
   ]
  }
 ],
 "metadata": {
  "language_info": {
   "name": "python"
  }
 },
 "nbformat": 4,
 "nbformat_minor": 2
}
