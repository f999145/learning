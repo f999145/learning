{
 "cells": [
  {
   "cell_type": "code",
   "execution_count": null,
   "metadata": {},
   "outputs": [],
   "source": [
    "df2 = df.groupby('placement').agg({\n",
    "    'clicks': [\n",
    "        ('sum_clicks', 'sum'),\n",
    "        ('mean_clicks', 'mean')\n",
    "    ],\n",
    "    'impressions': [\n",
    "        ('sum_impressions', 'sum'),\n",
    "        ('mean_impressions', 'mean')\n",
    "    ],\n",
    "    'spent': [\n",
    "        ('total_spent', 'sum'),\n",
    "        ('mean_spent', 'mean')\n",
    "    ],\n",
    "    'leads': [('cnt_leads', 'sum')],\n",
    "    'qualleads': [('cnt_qual', 'sum')],\n",
    "    'customers': [('cnt_customers', 'sum')],\n",
    "}).reset_index()\n",
    "\n",
    "df2.columns = df2.columns.droplevel(0)"
   ]
  }
 ],
 "metadata": {
  "language_info": {
   "name": "python"
  },
  "orig_nbformat": 4
 },
 "nbformat": 4,
 "nbformat_minor": 2
}
