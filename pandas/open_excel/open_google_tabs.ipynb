{
 "cells": [
  {
   "cell_type": "code",
   "execution_count": 63,
   "metadata": {},
   "outputs": [],
   "source": [
    "import pandas as pd\n",
    "import numpy as np"
   ]
  },
  {
   "cell_type": "code",
   "execution_count": 10,
   "metadata": {},
   "outputs": [],
   "source": [
    "excel_file = pd.read_excel('Копия БА 1 часть.xlsx', sheet_name=None)\n"
   ]
  },
  {
   "cell_type": "code",
   "execution_count": 85,
   "metadata": {},
   "outputs": [],
   "source": [
    "df = pd.concat(list(excel_file.values())[:2], ignore_index=True, sort=False)"
   ]
  },
  {
   "cell_type": "code",
   "execution_count": 86,
   "metadata": {},
   "outputs": [],
   "source": [
    "df = df.dropna(axis=0, how='any')"
   ]
  },
  {
   "cell_type": "code",
   "execution_count": 91,
   "metadata": {},
   "outputs": [],
   "source": [
    "df['Код товара'] = df['Код товара'].astype(np.uint32)\n",
    "df['Номер заказа'] = df['Номер заказа'].astype(np.uint32)\n",
    "df['Номер магазина'] = df['Номер магазина'].astype(np.uint32)\n"
   ]
  },
  {
   "cell_type": "code",
   "execution_count": 92,
   "metadata": {},
   "outputs": [
    {
     "data": {
      "text/plain": [
       "Index(['Номер заказа', 'Номер магазина', 'Код товара', 'Дата поставки',\n",
       "       'Сумма поставки'],\n",
       "      dtype='object')"
      ]
     },
     "execution_count": 92,
     "metadata": {},
     "output_type": "execute_result"
    }
   ],
   "source": [
    "df.columns"
   ]
  },
  {
   "cell_type": "code",
   "execution_count": 93,
   "metadata": {},
   "outputs": [
    {
     "data": {
      "text/plain": [
       "UInt64Index([111855, 111893, 111896, 111943, 111947, 148532, 148533, 148537,\n",
       "             167351, 167352, 178743, 186959, 191626, 207005, 232305, 237549,\n",
       "             237550, 237551, 237553, 241122, 241903, 244501, 382522, 382523,\n",
       "             510984, 510985, 510986, 510987, 512015, 512016, 512017, 512018,\n",
       "             512019, 512020, 512021, 512022, 512182, 512701, 512702, 513597,\n",
       "             513611, 514991, 515886, 515899, 518702, 518703, 518704, 520629,\n",
       "             520630, 521721, 522030, 522997, 524063, 524064, 524065, 524459,\n",
       "             524468],\n",
       "            dtype='uint64', name='Код товара')"
      ]
     },
     "execution_count": 93,
     "metadata": {},
     "output_type": "execute_result"
    }
   ],
   "source": [
    "# mask = df['Дата поставки'] > pd.to_datetime(2020)\n",
    "df_test = df.groupby('Код товара').min()\n",
    "df_test_mask = df_test['Дата поставки'] >= pd.to_datetime('2020')\n",
    "unique_code = df_test[df_test_mask].index\n",
    "unique_code"
   ]
  },
  {
   "cell_type": "code",
   "execution_count": 96,
   "metadata": {},
   "outputs": [
    {
     "data": {
      "text/plain": [
       "15096275.0"
      ]
     },
     "execution_count": 96,
     "metadata": {},
     "output_type": "execute_result"
    }
   ],
   "source": [
    "itog = df[df['Код товара'].isin(unique_code)]\n",
    "itog['Сумма поставки'].sum()"
   ]
  }
 ],
 "metadata": {
  "kernelspec": {
   "display_name": "Python 3",
   "language": "python",
   "name": "python3"
  },
  "language_info": {
   "codemirror_mode": {
    "name": "ipython",
    "version": 3
   },
   "file_extension": ".py",
   "mimetype": "text/x-python",
   "name": "python",
   "nbconvert_exporter": "python",
   "pygments_lexer": "ipython3",
   "version": "3.11.3"
  },
  "orig_nbformat": 4
 },
 "nbformat": 4,
 "nbformat_minor": 2
}
