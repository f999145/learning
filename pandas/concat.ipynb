{
 "cells": [
  {
   "cell_type": "code",
   "execution_count": 1,
   "metadata": {},
   "outputs": [
    {
     "name": "stdout",
     "output_type": "stream",
     "text": [
      "Empty DataFrame\n",
      "Columns: []\n",
      "Index: []\n",
      "    Courses    Fee   tool\n",
      "0     Spark  20000    NaN\n",
      "1   PySpark  25000    NaN\n",
      "2    Python  22000    NaN\n",
      "3    pandas  24000    NaN\n",
      "4    Pandas  25000    NaN\n",
      "5    Hadoop  25200    NaN\n",
      "6  Hyperion  24500    NaN\n",
      "7      Java  24900    NaN\n",
      "8    Spark2  20000    NaN\n",
      "9    Spark4     20  400.0\n"
     ]
    }
   ],
   "source": [
    "import pandas as pd\n",
    "df = pd.DataFrame()\n",
    "df1 = pd.DataFrame(\n",
    "    {\n",
    "        'Courses': [\"Spark\",\"PySpark\",\"Python\",\"pandas\"],\n",
    "        'Fee' : [20000,25000,22000,24000]  \n",
    "    }\n",
    ")\n",
    "df2 = pd.DataFrame(\n",
    "    {\n",
    "        'Courses': [\"Pandas\",\"Hadoop\",\"Hyperion\",\"Java\"],\n",
    "        'Fee': [25000,25200,24500,24900]  \n",
    "    }\n",
    ")\n",
    "df3 = pd.DataFrame(\n",
    "    {\n",
    "        'Courses': [\"Spark2\"],\n",
    "        'Fee' : [20000]  \n",
    "    }\n",
    ")\n",
    "df4 = pd.DataFrame(\n",
    "    {\n",
    "        'Courses': [\"Spark4\"],\n",
    "        'Fee' : [20],\n",
    "        'tool': [400]  \n",
    "    }\n",
    ")\n",
    "\n",
    "df_01 = pd.concat([df, df1, df2, df3, df4], ignore_index=True, sort=False)\n",
    "print(df)\n",
    "print(df_01)"
   ]
  }
 ],
 "metadata": {
  "kernelspec": {
   "display_name": "Python 3.11.0 64-bit",
   "language": "python",
   "name": "python3"
  },
  "language_info": {
   "codemirror_mode": {
    "name": "ipython",
    "version": 3
   },
   "file_extension": ".py",
   "mimetype": "text/x-python",
   "name": "python",
   "nbconvert_exporter": "python",
   "pygments_lexer": "ipython3",
   "version": "3.11.0"
  },
  "orig_nbformat": 4,
  "vscode": {
   "interpreter": {
    "hash": "07fa51723cfdfdcfd96f4d831e9a58393b5ea734b6a2ccc6da0d746f7dd84b96"
   }
  }
 },
 "nbformat": 4,
 "nbformat_minor": 2
}
