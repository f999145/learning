{
 "cells": [
  {
   "attachments": {},
   "cell_type": "markdown",
   "metadata": {},
   "source": [
    "Для экспорта нескольких таблиц в Excel файл с помощью библиотеки Pandas можно использовать метод \n",
    "pandas.ExcelWriter()\n",
    ".\n",
    "\n",
    "Пример кода:\n",
    "```python\n",
    "import pandas as pd\n",
    "\n",
    "# Создаем две таблицы\n",
    "df1 = pd.DataFrame({'A': [1, 2, 3], 'B': [4, 5, 6]})\n",
    "df2 = pd.DataFrame({'C': [7, 8, 9], 'D': [10, 11, 12]})\n",
    "\n",
    "# Создаем объект ExcelWriter\n",
    "writer = pd.ExcelWriter('output.xlsx', engine='xlsxwriter')\n",
    "\n",
    "# Записываем две таблицы в файл\n",
    "df1.to_excel(writer, sheet_name='Sheet1')\n",
    "df2.to_excel(writer, sheet_name='Sheet2')\n",
    "\n",
    "# Закрываем объект ExcelWriter\n",
    "writer.save()\n",
    "\n",
    "```\n",
    "В этом примере мы создаем две таблицы \n",
    "df1\n",
    " и \n",
    "df2\n",
    ", затем создаем объект \n",
    "ExcelWriter\n",
    " и записываем эти таблицы в файл \n",
    "output.xlsx\n",
    ". Мы указываем имя листа для каждой таблицы с помощью параметра \n",
    "sheet_name\n",
    ".\n",
    "\n",
    "После записи таблиц в файл, мы закрываем объект \n",
    "ExcelWriter\n",
    " с помощью метода \n",
    "save()\n",
    ".\n",
    "\n",
    "Таким образом, мы экспортировали две таблицы в Excel файл с помощью библиотеки Pandas."
   ]
  }
 ],
 "metadata": {
  "language_info": {
   "name": "python"
  },
  "orig_nbformat": 4
 },
 "nbformat": 4,
 "nbformat_minor": 2
}
